{
 "cells": [
  {
   "cell_type": "code",
   "execution_count": 1,
   "metadata": {},
   "outputs": [],
   "source": [
    "import geopandas as gpd\n",
    "import pandas as pd\n",
    "import numpy as np\n",
    "import shapely\n",
    "from shapely import Polygon, MultiPolygon, LineString, Point\n",
    "import time"
   ]
  },
  {
   "cell_type": "markdown",
   "metadata": {},
   "source": [
    "# Read in Data"
   ]
  },
  {
   "cell_type": "code",
   "execution_count": 2,
   "metadata": {},
   "outputs": [],
   "source": [
    "#takes 45 seconds\n",
    "\n",
    "gdf = gpd.read_file('data/shapefiles/MAMMALS_TERRESTRIAL_ONLY')\n",
    "\n",
    "df = pd.read_csv('data/observations.csv')"
   ]
  },
  {
   "cell_type": "code",
   "execution_count": 3,
   "metadata": {},
   "outputs": [
    {
     "data": {
      "text/plain": [
       "5633"
      ]
     },
     "execution_count": 3,
     "metadata": {},
     "output_type": "execute_result"
    }
   ],
   "source": [
    "len(gdf['sci_name'].unique())"
   ]
  },
  {
   "cell_type": "code",
   "execution_count": 4,
   "metadata": {},
   "outputs": [
    {
     "data": {
      "text/plain": [
       "presence\n",
       "1    11678\n",
       "3      257\n",
       "6      162\n",
       "5      160\n",
       "4      140\n",
       "2       93\n",
       "Name: count, dtype: int64"
      ]
     },
     "execution_count": 4,
     "metadata": {},
     "output_type": "execute_result"
    }
   ],
   "source": [
    "gdf['presence'].value_counts()"
   ]
  },
  {
   "cell_type": "markdown",
   "metadata": {},
   "source": [
    "# Make Mass Table"
   ]
  },
  {
   "cell_type": "code",
   "execution_count": 5,
   "metadata": {},
   "outputs": [],
   "source": [
    "df_highest_mass = df[df['body mass'].notnull()].sort_values(by = 'body mass', ascending = False)\\\n",
    "                    .drop_duplicates(subset = ['species'], keep = 'first')\n",
    "\n",
    "masses = gdf[['sci_name']].drop_duplicates().merge(df_highest_mass[['species','body mass']], \n",
    "                                                   left_on = 'sci_name', right_on = 'species', how = 'left')\\\n",
    "                                                   .drop(columns = ['species'])"
   ]
  },
  {
   "cell_type": "code",
   "execution_count": 6,
   "metadata": {},
   "outputs": [],
   "source": [
    "#masses.to_csv('data/masses_from_ipynb.csv', index = False)"
   ]
  },
  {
   "cell_type": "markdown",
   "metadata": {},
   "source": [
    "# Read in Masses"
   ]
  },
  {
   "cell_type": "code",
   "execution_count": 7,
   "metadata": {},
   "outputs": [],
   "source": [
    "masses = pd.read_csv('data/masses.csv')"
   ]
  },
  {
   "cell_type": "markdown",
   "metadata": {},
   "source": [
    "# Create new Geometries"
   ]
  },
  {
   "cell_type": "code",
   "execution_count": 8,
   "metadata": {},
   "outputs": [],
   "source": [
    "gdf = gdf.merge(masses, how = 'left', on = 'sci_name').dropna(subset = 'body mass')\\\n",
    "    .sort_values(by = 'body mass', ascending = False)\n",
    "gdf = gdf[gdf['presence'] != 5] #drop extinct territories"
   ]
  },
  {
   "cell_type": "code",
   "execution_count": 9,
   "metadata": {},
   "outputs": [],
   "source": [
    "#collapse each species into one shape\n",
    "#takes 90 sec\n",
    "gdf = gdf.sort_values(by = 'body mass', ascending = False)\n",
    "gdf = gdf.head(500).copy()\n",
    "gdf = gdf.dissolve(by = 'sci_name').reset_index()\n",
    "avoid = ['Gulo gulo', 'Hyaena hyaena']\n",
    "gdf = gdf[~gdf['sci_name'].isin(avoid)]\n",
    "gdf = gdf.sort_values(by = 'body mass', ascending = False)\n",
    "gdf = gdf.head(50)"
   ]
  },
  {
   "cell_type": "code",
   "execution_count": 10,
   "metadata": {},
   "outputs": [],
   "source": [
    "def has_line(multipoly):\n",
    "    if isinstance(multipoly, shapely.geometry.multipolygon.MultiPolygon):\n",
    "        for geo in multipoly.geoms:\n",
    "            if isinstance(geo, shapely.geometry.linestring.LineString):\n",
    "                return(True)\n",
    "        return(False)\n",
    "    else:\n",
    "        return(isinstance(multipoly, shapely.geometry.linestring.LineString))\n",
    "\n",
    "def remove_line(geometry):\n",
    "    new_geo = MultiPolygon([g for g in geometry.geoms if not isinstance(g, shapely.geometry.linestring.LineString)])\n",
    "    return(new_geo)"
   ]
  },
  {
   "cell_type": "code",
   "execution_count": 11,
   "metadata": {},
   "outputs": [
    {
     "name": "stdout",
     "output_type": "stream",
     "text": [
      "Loxodonta africana\n",
      "1/50 0.002480030059814453 0.0024819374084472656 False\n",
      "Elephas maximus\n",
      "2/50 0.14952802658081055 0.15201115608215332 False\n",
      "Loxodonta cyclotis\n",
      "3/50 0.2582128047943115 0.41022491455078125 False\n",
      "Ceratotherium simum\n",
      "4/50 0.38393425941467285 0.7941598892211914 False\n",
      "Rhinoceros sondaicus\n",
      "5/50 0.2771761417388916 1.0713369846343994 False\n",
      "Diceros bicornis\n",
      "6/50 0.6181612014770508 1.6894989013671875 False\n",
      "Giraffa camelopardalis\n",
      "7/50 0.27898621559143066 1.9684858322143555 False\n",
      "Bos gaurus\n",
      "8/50 0.3378770351409912 2.306364059448242 False\n",
      "Bos mutus\n",
      "9/50 0.19123387336730957 2.4975979328155518 False\n",
      "Bison bison\n",
      "10/50 0.2026970386505127 2.700295925140381 False\n",
      "Bison bonasus\n",
      "11/50 0.39383506774902344 3.0941319465637207 False\n",
      "Syncerus caffer\n",
      "12/50 0.4734160900115967 3.567548990249634 False\n",
      "Bos javanicus\n",
      "13/50 0.44307708740234375 4.010627031326294 False\n",
      "Alces alces\n",
      "14/50 0.5865449905395508 4.597172021865845 False\n",
      "Tragelaphus eurycerus\n",
      "15/50 0.7733051776885986 5.370477199554443 False\n",
      "Ursus arctos\n",
      "16/50 0.9194707870483398 6.289947986602783 False\n",
      "Cervus canadensis\n",
      "17/50 0.6993560791015625 6.989304065704346 False\n",
      "Panthera tigris\n",
      "18/50 1.191831111907959 8.181135177612305 False\n",
      "Hylochoerus meinertzhageni\n",
      "19/50 0.5143089294433594 8.69544506072998 False\n",
      "Rangifer tarandus\n",
      "20/50 2.429426908493042 11.124872922897339 False\n",
      "Boselaphus tragocamelus\n",
      "21/50 0.6782510280609131 11.803123950958252 False\n",
      "Panthera leo\n",
      "22/50 0.7562639713287354 12.559388875961304 False\n",
      "Sus scrofa\n",
      "23/50 1.1073663234710693 13.666755199432373 False\n",
      "Ovis canadensis\n",
      "24/50 0.703352689743042 14.370107889175415 False\n",
      "Ursus americanus\n",
      "25/50 1.9049911499023438 16.27509903907776 False\n",
      "Gorilla gorilla\n",
      "26/50 0.6042180061340332 16.87931799888611 False\n",
      "Ursus thibetanus\n",
      "27/50 2.2491800785064697 19.128499031066895 False\n",
      "Ailuropoda melanoleuca\n",
      "28/50 0.0818030834197998 19.210302114486694 False\n",
      "Lama guanicoe\n",
      "29/50 0.6133289337158203 19.823631048202515 False\n",
      "Damaliscus pygargus\n",
      "30/50 1.0083317756652832 20.831964015960693 False\n",
      "Odocoileus virginianus\n",
      "31/50 1.6490769386291504 22.48104190826416 False\n",
      "Panthera onca\n",
      "32/50 0.8384191989898682 23.31946110725403 False\n",
      "Pongo pygmaeus\n",
      "33/50 0.8002798557281494 24.119741916656494 False\n",
      "Puma concolor\n",
      "34/50 2.036863088607788 26.1566059589386 False\n",
      "Oreamnos americanus\n",
      "35/50 0.7830650806427002 26.939672231674194 False\n",
      "Macropus giganteus\n",
      "36/50 0.6221036911010742 27.561776876449585 False\n",
      "Orycteropus afer\n",
      "37/50 1.2061240673065186 28.76790189743042 False\n",
      "Crocuta crocuta\n",
      "38/50 1.2159130573272705 29.983815908432007 False\n",
      "Macropus fuliginosus\n",
      "39/50 0.6660690307617188 30.649884939193726 False\n",
      "Pan troglodytes\n",
      "40/50 1.1624162197113037 31.81230115890503 False\n",
      "Panthera pardus\n",
      "41/50 2.5421688556671143 34.35447096824646 False\n",
      "Acinonyx jubatus\n",
      "42/50 1.7234160900115967 36.07788705825806 False\n",
      "Myrmecophaga tridactyla\n",
      "43/50 1.3531670570373535 37.43105411529541 False\n",
      "Vombatus ursinus\n",
      "44/50 0.7502379417419434 38.18129205703735 False\n",
      "Canis lupus\n",
      "45/50 3.989014148712158 42.17030715942383 False\n",
      "Clethrionomys rutilus\n",
      "46/50 2.8122260570526123 44.98253321647644 False\n",
      "Hystrix indica\n",
      "47/50 2.4867608547210693 47.469295263290405 False\n",
      "Lasiorhinus latifrons\n",
      "48/50 2.034205913543701 49.50350213050842 False\n",
      "Mandrillus sphinx\n",
      "49/50 61.70622992515564 111.20973324775696 False\n",
      "Papio anubis\n",
      "50/50 2.1658387184143066 113.37557315826416 False\n"
     ]
    }
   ],
   "source": [
    "df['no_overlap_geometry'] = np.nan\n",
    "union = Polygon([])\n",
    "\n",
    "start = time.time()\n",
    "abs_times = [0]\n",
    "rel_times = []\n",
    "j = 0\n",
    "for i, row in gdf.iterrows():\n",
    "    print(row['sci_name'])\n",
    "    this_geo = row['geometry']\n",
    "    new_geo = this_geo - union\n",
    "    gdf.loc[i, 'no_overlap_geometry'] = new_geo\n",
    "    if new_geo.area > 0:\n",
    "        union = this_geo.union(union)\n",
    "    hl = has_line(union)\n",
    "    if hl:\n",
    "        union = remove_line(union)\n",
    "    j += 1\n",
    "    rel_times.append(time.time() - abs_times[-1] - start)\n",
    "    abs_times.append(time.time()-start)\n",
    "    print(str(j) +f\"/{len(gdf)}\", rel_times[-1], abs_times[-1], hl)"
   ]
  },
  {
   "cell_type": "code",
   "execution_count": 12,
   "metadata": {},
   "outputs": [],
   "source": [
    "geos = gdf['no_overlap_geometry']\n",
    "a_gdf = gdf.drop(columns = ['geometry','no_overlap_geometry'])\n",
    "new_gdf = gpd.GeoDataFrame(a_gdf, crs=\"EPSG:4326\", geometry=geos)\n",
    "new_gdf.head(44).to_file('data/shapefiles/largest-mammals')"
   ]
  },
  {
   "cell_type": "markdown",
   "metadata": {},
   "source": [
    "Including Canis Lupus (line 45) makes dataframe fail to print to file"
   ]
  }
 ],
 "metadata": {
  "kernelspec": {
   "display_name": "venv",
   "language": "python",
   "name": "python3"
  },
  "language_info": {
   "codemirror_mode": {
    "name": "ipython",
    "version": 3
   },
   "file_extension": ".py",
   "mimetype": "text/x-python",
   "name": "python",
   "nbconvert_exporter": "python",
   "pygments_lexer": "ipython3",
   "version": "3.12.1"
  }
 },
 "nbformat": 4,
 "nbformat_minor": 2
}
