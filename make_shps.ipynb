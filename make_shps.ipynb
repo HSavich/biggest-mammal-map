{
 "cells": [
  {
   "cell_type": "code",
   "execution_count": 10,
   "metadata": {},
   "outputs": [],
   "source": [
    "import geopandas as gpd\n",
    "import pandas as pd\n",
    "import numpy as np\n",
    "from shapely import Polygon as shp"
   ]
  },
  {
   "cell_type": "markdown",
   "metadata": {},
   "source": [
    "# Read in Data"
   ]
  },
  {
   "cell_type": "code",
   "execution_count": 2,
   "metadata": {},
   "outputs": [],
   "source": [
    "gdf = gpd.read_file('data/shapefiles/MAMMALS_TERRESTRIAL_ONLY')\n",
    "\n",
    "df = pd.read_csv('data/observations.csv')"
   ]
  },
  {
   "cell_type": "markdown",
   "metadata": {},
   "source": [
    "# Make Mass Table"
   ]
  },
  {
   "cell_type": "code",
   "execution_count": 3,
   "metadata": {},
   "outputs": [],
   "source": [
    "df_highest_mass = df[df['body mass'].notnull()].sort_values(by = 'body mass', ascending = False)\\\n",
    "                    .drop_duplicates(subset = ['species'], keep = 'first')\n",
    "\n",
    "masses = gdf[['sci_name']].drop_duplicates().merge(df_highest_mass[['species','body mass']], \n",
    "                                                   left_on = 'sci_name', right_on = 'species', how = 'left')\\\n",
    "                                                   .drop(columns = ['species'])"
   ]
  },
  {
   "cell_type": "code",
   "execution_count": 4,
   "metadata": {},
   "outputs": [],
   "source": [
    "masses.to_csv('masses_from_ipynb.csv', index = False)"
   ]
  },
  {
   "cell_type": "markdown",
   "metadata": {},
   "source": [
    "# Read in Masses"
   ]
  },
  {
   "cell_type": "code",
   "execution_count": 5,
   "metadata": {},
   "outputs": [],
   "source": [
    "masses = pd.read_csv('masses.csv')"
   ]
  },
  {
   "cell_type": "markdown",
   "metadata": {},
   "source": [
    "# Create new Geometries"
   ]
  },
  {
   "cell_type": "code",
   "execution_count": 7,
   "metadata": {},
   "outputs": [],
   "source": [
    "gdf = gdf.merge(masses, how = 'left', on = 'sci_name').dropna(subset = 'body mass')\\\n",
    "    .sort_values(by = 'body mass', ascending = False)"
   ]
  },
  {
   "cell_type": "code",
   "execution_count": 23,
   "metadata": {},
   "outputs": [
    {
     "name": "stdout",
     "output_type": "stream",
     "text": [
      "3782\n",
      "3781\n"
     ]
    }
   ],
   "source": [
    "for i, row in gdf.head(2).iterrows():\n",
    "    print(i)"
   ]
  },
  {
   "cell_type": "code",
   "execution_count": 28,
   "metadata": {},
   "outputs": [
    {
     "data": {
      "text/plain": [
       "0.0020282179353482053"
      ]
     },
     "execution_count": 28,
     "metadata": {},
     "output_type": "execute_result"
    }
   ],
   "source": [
    "shp1.area"
   ]
  },
  {
   "cell_type": "code",
   "execution_count": 29,
   "metadata": {},
   "outputs": [
    {
     "data": {
      "text/plain": [
       "139.32198659548118"
      ]
     },
     "execution_count": 29,
     "metadata": {},
     "output_type": "execute_result"
    }
   ],
   "source": [
    "shp2.area"
   ]
  },
  {
   "cell_type": "code",
   "execution_count": 32,
   "metadata": {},
   "outputs": [
    {
     "data": {
      "text/plain": [
       "139.32401481341662"
      ]
     },
     "execution_count": 32,
     "metadata": {},
     "output_type": "execute_result"
    }
   ],
   "source": [
    "shp1.union(shp2).area"
   ]
  },
  {
   "cell_type": "code",
   "execution_count": 24,
   "metadata": {},
   "outputs": [
    {
     "data": {
      "text/html": [
       "<div>\n",
       "<style scoped>\n",
       "    .dataframe tbody tr th:only-of-type {\n",
       "        vertical-align: middle;\n",
       "    }\n",
       "\n",
       "    .dataframe tbody tr th {\n",
       "        vertical-align: top;\n",
       "    }\n",
       "\n",
       "    .dataframe thead th {\n",
       "        text-align: right;\n",
       "    }\n",
       "</style>\n",
       "<table border=\"1\" class=\"dataframe\">\n",
       "  <thead>\n",
       "    <tr style=\"text-align: right;\">\n",
       "      <th></th>\n",
       "      <th>id_no</th>\n",
       "      <th>sci_name</th>\n",
       "      <th>presence</th>\n",
       "      <th>origin</th>\n",
       "      <th>seasonal</th>\n",
       "      <th>compiler</th>\n",
       "      <th>yrcompiled</th>\n",
       "      <th>citation</th>\n",
       "      <th>subspecies</th>\n",
       "      <th>subpop</th>\n",
       "      <th>...</th>\n",
       "      <th>family</th>\n",
       "      <th>genus</th>\n",
       "      <th>category</th>\n",
       "      <th>marine</th>\n",
       "      <th>terrestial</th>\n",
       "      <th>freshwater</th>\n",
       "      <th>Shape_Leng</th>\n",
       "      <th>Shape_Area</th>\n",
       "      <th>geometry</th>\n",
       "      <th>body mass</th>\n",
       "    </tr>\n",
       "  </thead>\n",
       "  <tbody>\n",
       "    <tr>\n",
       "      <th>3782</th>\n",
       "      <td>181008073</td>\n",
       "      <td>Loxodonta africana</td>\n",
       "      <td>1</td>\n",
       "      <td>2</td>\n",
       "      <td>1</td>\n",
       "      <td>IUCN SSC African Elephant Specialist Group</td>\n",
       "      <td>2021</td>\n",
       "      <td>IUCN SSC African Elephant Specialist Group</td>\n",
       "      <td>None</td>\n",
       "      <td>None</td>\n",
       "      <td>...</td>\n",
       "      <td>ELEPHANTIDAE</td>\n",
       "      <td>Loxodonta</td>\n",
       "      <td>EN</td>\n",
       "      <td>false</td>\n",
       "      <td>true</td>\n",
       "      <td>false</td>\n",
       "      <td>0.310021</td>\n",
       "      <td>0.002028</td>\n",
       "      <td>MULTIPOLYGON (((31.76359 -26.61175, 31.76487 -...</td>\n",
       "      <td>6000.000</td>\n",
       "    </tr>\n",
       "    <tr>\n",
       "      <th>3781</th>\n",
       "      <td>181008073</td>\n",
       "      <td>Loxodonta africana</td>\n",
       "      <td>1</td>\n",
       "      <td>1</td>\n",
       "      <td>1</td>\n",
       "      <td>IUCN SSC African Elephant Specialist Group</td>\n",
       "      <td>2021</td>\n",
       "      <td>IUCN SSC African Elephant Specialist Group</td>\n",
       "      <td>None</td>\n",
       "      <td>None</td>\n",
       "      <td>...</td>\n",
       "      <td>ELEPHANTIDAE</td>\n",
       "      <td>Loxodonta</td>\n",
       "      <td>EN</td>\n",
       "      <td>false</td>\n",
       "      <td>true</td>\n",
       "      <td>false</td>\n",
       "      <td>518.449852</td>\n",
       "      <td>139.321987</td>\n",
       "      <td>MULTIPOLYGON (((22.97502 -34.07926, 22.97567 -...</td>\n",
       "      <td>6000.000</td>\n",
       "    </tr>\n",
       "    <tr>\n",
       "      <th>3780</th>\n",
       "      <td>181008073</td>\n",
       "      <td>Loxodonta africana</td>\n",
       "      <td>4</td>\n",
       "      <td>1</td>\n",
       "      <td>1</td>\n",
       "      <td>IUCN SSC African Elephant Specialist Group</td>\n",
       "      <td>2021</td>\n",
       "      <td>IUCN SSC African Elephant Specialist Group</td>\n",
       "      <td>None</td>\n",
       "      <td>None</td>\n",
       "      <td>...</td>\n",
       "      <td>ELEPHANTIDAE</td>\n",
       "      <td>Loxodonta</td>\n",
       "      <td>EN</td>\n",
       "      <td>false</td>\n",
       "      <td>true</td>\n",
       "      <td>false</td>\n",
       "      <td>271.889957</td>\n",
       "      <td>69.553075</td>\n",
       "      <td>MULTIPOLYGON (((29.23323 -21.74140, 29.26674 -...</td>\n",
       "      <td>6000.000</td>\n",
       "    </tr>\n",
       "    <tr>\n",
       "      <th>3779</th>\n",
       "      <td>181008073</td>\n",
       "      <td>Loxodonta africana</td>\n",
       "      <td>3</td>\n",
       "      <td>1</td>\n",
       "      <td>1</td>\n",
       "      <td>IUCN SSC African Elephant Specialist Group</td>\n",
       "      <td>2021</td>\n",
       "      <td>IUCN SSC African Elephant Specialist Group</td>\n",
       "      <td>None</td>\n",
       "      <td>None</td>\n",
       "      <td>...</td>\n",
       "      <td>ELEPHANTIDAE</td>\n",
       "      <td>Loxodonta</td>\n",
       "      <td>EN</td>\n",
       "      <td>false</td>\n",
       "      <td>true</td>\n",
       "      <td>false</td>\n",
       "      <td>223.518362</td>\n",
       "      <td>58.928504</td>\n",
       "      <td>MULTIPOLYGON (((32.47534 -20.13611, 32.48143 -...</td>\n",
       "      <td>6000.000</td>\n",
       "    </tr>\n",
       "    <tr>\n",
       "      <th>8078</th>\n",
       "      <td>7140</td>\n",
       "      <td>Elephas maximus</td>\n",
       "      <td>3</td>\n",
       "      <td>5</td>\n",
       "      <td>1</td>\n",
       "      <td>IUCN/SSC AsESG, WCS, WWF</td>\n",
       "      <td>2020</td>\n",
       "      <td>IUCN/SSC AsESG, WCS, WWF</td>\n",
       "      <td>None</td>\n",
       "      <td>None</td>\n",
       "      <td>...</td>\n",
       "      <td>ELEPHANTIDAE</td>\n",
       "      <td>Elephas</td>\n",
       "      <td>EN</td>\n",
       "      <td>false</td>\n",
       "      <td>true</td>\n",
       "      <td>false</td>\n",
       "      <td>246.534093</td>\n",
       "      <td>9.490031</td>\n",
       "      <td>MULTIPOLYGON (((103.81783 -4.38439, 103.77385 ...</td>\n",
       "      <td>4500.000</td>\n",
       "    </tr>\n",
       "    <tr>\n",
       "      <th>...</th>\n",
       "      <td>...</td>\n",
       "      <td>...</td>\n",
       "      <td>...</td>\n",
       "      <td>...</td>\n",
       "      <td>...</td>\n",
       "      <td>...</td>\n",
       "      <td>...</td>\n",
       "      <td>...</td>\n",
       "      <td>...</td>\n",
       "      <td>...</td>\n",
       "      <td>...</td>\n",
       "      <td>...</td>\n",
       "      <td>...</td>\n",
       "      <td>...</td>\n",
       "      <td>...</td>\n",
       "      <td>...</td>\n",
       "      <td>...</td>\n",
       "      <td>...</td>\n",
       "      <td>...</td>\n",
       "      <td>...</td>\n",
       "      <td>...</td>\n",
       "    </tr>\n",
       "    <tr>\n",
       "      <th>3563</th>\n",
       "      <td>29662</td>\n",
       "      <td>Sorex caecutiens</td>\n",
       "      <td>1</td>\n",
       "      <td>1</td>\n",
       "      <td>1</td>\n",
       "      <td>IUCN</td>\n",
       "      <td>2012</td>\n",
       "      <td>IUCN (International Union for Conservation of ...</td>\n",
       "      <td>None</td>\n",
       "      <td>None</td>\n",
       "      <td>...</td>\n",
       "      <td>SORICIDAE</td>\n",
       "      <td>Sorex</td>\n",
       "      <td>LC</td>\n",
       "      <td>false</td>\n",
       "      <td>true</td>\n",
       "      <td>false</td>\n",
       "      <td>0.950475</td>\n",
       "      <td>0.050470</td>\n",
       "      <td>POLYGON ((156.40591 50.64036, 156.40639 50.638...</td>\n",
       "      <td>0.010</td>\n",
       "    </tr>\n",
       "    <tr>\n",
       "      <th>965</th>\n",
       "      <td>41422</td>\n",
       "      <td>Sorex tundrensis</td>\n",
       "      <td>1</td>\n",
       "      <td>1</td>\n",
       "      <td>1</td>\n",
       "      <td>IUCN</td>\n",
       "      <td>2012</td>\n",
       "      <td>IUCN (International Union for Conservation of ...</td>\n",
       "      <td>None</td>\n",
       "      <td>None</td>\n",
       "      <td>...</td>\n",
       "      <td>SORICIDAE</td>\n",
       "      <td>Sorex</td>\n",
       "      <td>LC</td>\n",
       "      <td>false</td>\n",
       "      <td>true</td>\n",
       "      <td>false</td>\n",
       "      <td>953.025010</td>\n",
       "      <td>2698.008609</td>\n",
       "      <td>MULTIPOLYGON (((81.54186 45.11874, 81.72656 45...</td>\n",
       "      <td>0.010</td>\n",
       "    </tr>\n",
       "    <tr>\n",
       "      <th>2355</th>\n",
       "      <td>29667</td>\n",
       "      <td>Sorex minutus</td>\n",
       "      <td>1</td>\n",
       "      <td>1</td>\n",
       "      <td>1</td>\n",
       "      <td>IUCN</td>\n",
       "      <td>2008</td>\n",
       "      <td>IUCN (International Union for Conservation of ...</td>\n",
       "      <td>None</td>\n",
       "      <td>None</td>\n",
       "      <td>...</td>\n",
       "      <td>SORICIDAE</td>\n",
       "      <td>Sorex</td>\n",
       "      <td>LC</td>\n",
       "      <td>false</td>\n",
       "      <td>true</td>\n",
       "      <td>false</td>\n",
       "      <td>1357.221893</td>\n",
       "      <td>2064.400425</td>\n",
       "      <td>MULTIPOLYGON (((83.64068 26.61991, 83.28411 26...</td>\n",
       "      <td>0.004</td>\n",
       "    </tr>\n",
       "    <tr>\n",
       "      <th>2354</th>\n",
       "      <td>29667</td>\n",
       "      <td>Sorex minutus</td>\n",
       "      <td>2</td>\n",
       "      <td>1</td>\n",
       "      <td>1</td>\n",
       "      <td>IUCN</td>\n",
       "      <td>2008</td>\n",
       "      <td>IUCN (International Union for Conservation of ...</td>\n",
       "      <td>None</td>\n",
       "      <td>None</td>\n",
       "      <td>...</td>\n",
       "      <td>SORICIDAE</td>\n",
       "      <td>Sorex</td>\n",
       "      <td>LC</td>\n",
       "      <td>false</td>\n",
       "      <td>true</td>\n",
       "      <td>false</td>\n",
       "      <td>7.927799</td>\n",
       "      <td>1.513192</td>\n",
       "      <td>POLYGON ((75.49854 32.28351, 75.37968 32.25822...</td>\n",
       "      <td>0.004</td>\n",
       "    </tr>\n",
       "    <tr>\n",
       "      <th>8562</th>\n",
       "      <td>29666</td>\n",
       "      <td>Sorex minutissimus</td>\n",
       "      <td>1</td>\n",
       "      <td>1</td>\n",
       "      <td>1</td>\n",
       "      <td>IUCN</td>\n",
       "      <td>2008</td>\n",
       "      <td>IUCN (International Union for Conservation of ...</td>\n",
       "      <td>None</td>\n",
       "      <td>None</td>\n",
       "      <td>...</td>\n",
       "      <td>SORICIDAE</td>\n",
       "      <td>Sorex</td>\n",
       "      <td>LC</td>\n",
       "      <td>false</td>\n",
       "      <td>true</td>\n",
       "      <td>false</td>\n",
       "      <td>741.607164</td>\n",
       "      <td>2824.451116</td>\n",
       "      <td>MULTIPOLYGON (((10.21144 63.54330, 10.20181 63...</td>\n",
       "      <td>0.003</td>\n",
       "    </tr>\n",
       "  </tbody>\n",
       "</table>\n",
       "<p>568 rows × 30 columns</p>\n",
       "</div>"
      ],
      "text/plain": [
       "          id_no            sci_name  presence  origin  seasonal  \\\n",
       "3782  181008073  Loxodonta africana         1       2         1   \n",
       "3781  181008073  Loxodonta africana         1       1         1   \n",
       "3780  181008073  Loxodonta africana         4       1         1   \n",
       "3779  181008073  Loxodonta africana         3       1         1   \n",
       "8078       7140     Elephas maximus         3       5         1   \n",
       "...         ...                 ...       ...     ...       ...   \n",
       "3563      29662    Sorex caecutiens         1       1         1   \n",
       "965       41422    Sorex tundrensis         1       1         1   \n",
       "2355      29667       Sorex minutus         1       1         1   \n",
       "2354      29667       Sorex minutus         2       1         1   \n",
       "8562      29666  Sorex minutissimus         1       1         1   \n",
       "\n",
       "                                        compiler  yrcompiled  \\\n",
       "3782  IUCN SSC African Elephant Specialist Group        2021   \n",
       "3781  IUCN SSC African Elephant Specialist Group        2021   \n",
       "3780  IUCN SSC African Elephant Specialist Group        2021   \n",
       "3779  IUCN SSC African Elephant Specialist Group        2021   \n",
       "8078                    IUCN/SSC AsESG, WCS, WWF        2020   \n",
       "...                                          ...         ...   \n",
       "3563                                        IUCN        2012   \n",
       "965                                         IUCN        2012   \n",
       "2355                                        IUCN        2008   \n",
       "2354                                        IUCN        2008   \n",
       "8562                                        IUCN        2008   \n",
       "\n",
       "                                               citation subspecies subpop  \\\n",
       "3782         IUCN SSC African Elephant Specialist Group       None   None   \n",
       "3781         IUCN SSC African Elephant Specialist Group       None   None   \n",
       "3780         IUCN SSC African Elephant Specialist Group       None   None   \n",
       "3779         IUCN SSC African Elephant Specialist Group       None   None   \n",
       "8078                           IUCN/SSC AsESG, WCS, WWF       None   None   \n",
       "...                                                 ...        ...    ...   \n",
       "3563  IUCN (International Union for Conservation of ...       None   None   \n",
       "965   IUCN (International Union for Conservation of ...       None   None   \n",
       "2355  IUCN (International Union for Conservation of ...       None   None   \n",
       "2354  IUCN (International Union for Conservation of ...       None   None   \n",
       "8562  IUCN (International Union for Conservation of ...       None   None   \n",
       "\n",
       "      ...        family      genus category marine  terrestial freshwater  \\\n",
       "3782  ...  ELEPHANTIDAE  Loxodonta       EN  false        true      false   \n",
       "3781  ...  ELEPHANTIDAE  Loxodonta       EN  false        true      false   \n",
       "3780  ...  ELEPHANTIDAE  Loxodonta       EN  false        true      false   \n",
       "3779  ...  ELEPHANTIDAE  Loxodonta       EN  false        true      false   \n",
       "8078  ...  ELEPHANTIDAE    Elephas       EN  false        true      false   \n",
       "...   ...           ...        ...      ...    ...         ...        ...   \n",
       "3563  ...     SORICIDAE      Sorex       LC  false        true      false   \n",
       "965   ...     SORICIDAE      Sorex       LC  false        true      false   \n",
       "2355  ...     SORICIDAE      Sorex       LC  false        true      false   \n",
       "2354  ...     SORICIDAE      Sorex       LC  false        true      false   \n",
       "8562  ...     SORICIDAE      Sorex       LC  false        true      false   \n",
       "\n",
       "       Shape_Leng   Shape_Area  \\\n",
       "3782     0.310021     0.002028   \n",
       "3781   518.449852   139.321987   \n",
       "3780   271.889957    69.553075   \n",
       "3779   223.518362    58.928504   \n",
       "8078   246.534093     9.490031   \n",
       "...           ...          ...   \n",
       "3563     0.950475     0.050470   \n",
       "965    953.025010  2698.008609   \n",
       "2355  1357.221893  2064.400425   \n",
       "2354     7.927799     1.513192   \n",
       "8562   741.607164  2824.451116   \n",
       "\n",
       "                                               geometry body mass  \n",
       "3782  MULTIPOLYGON (((31.76359 -26.61175, 31.76487 -...  6000.000  \n",
       "3781  MULTIPOLYGON (((22.97502 -34.07926, 22.97567 -...  6000.000  \n",
       "3780  MULTIPOLYGON (((29.23323 -21.74140, 29.26674 -...  6000.000  \n",
       "3779  MULTIPOLYGON (((32.47534 -20.13611, 32.48143 -...  6000.000  \n",
       "8078  MULTIPOLYGON (((103.81783 -4.38439, 103.77385 ...  4500.000  \n",
       "...                                                 ...       ...  \n",
       "3563  POLYGON ((156.40591 50.64036, 156.40639 50.638...     0.010  \n",
       "965   MULTIPOLYGON (((81.54186 45.11874, 81.72656 45...     0.010  \n",
       "2355  MULTIPOLYGON (((83.64068 26.61991, 83.28411 26...     0.004  \n",
       "2354  POLYGON ((75.49854 32.28351, 75.37968 32.25822...     0.004  \n",
       "8562  MULTIPOLYGON (((10.21144 63.54330, 10.20181 63...     0.003  \n",
       "\n",
       "[568 rows x 30 columns]"
      ]
     },
     "execution_count": 24,
     "metadata": {},
     "output_type": "execute_result"
    }
   ],
   "source": [
    "gdf"
   ]
  },
  {
   "cell_type": "code",
   "execution_count": 35,
   "metadata": {},
   "outputs": [],
   "source": [
    "import time"
   ]
  },
  {
   "cell_type": "code",
   "execution_count": 37,
   "metadata": {},
   "outputs": [
    {
     "data": {
      "text/plain": [
       "1705288324.7526112"
      ]
     },
     "execution_count": 37,
     "metadata": {},
     "output_type": "execute_result"
    }
   ],
   "source": [
    "time.time()"
   ]
  },
  {
   "cell_type": "code",
   "execution_count": null,
   "metadata": {},
   "outputs": [],
   "source": []
  },
  {
   "cell_type": "code",
   "execution_count": 53,
   "metadata": {},
   "outputs": [
    {
     "ename": "AttributeError",
     "evalue": "'MultiPolygon' object has no attribute 'exterior'",
     "output_type": "error",
     "traceback": [
      "\u001b[0;31m---------------------------------------------------------------------------\u001b[0m",
      "\u001b[0;31mAttributeError\u001b[0m                            Traceback (most recent call last)",
      "Cell \u001b[0;32mIn[53], line 1\u001b[0m\n\u001b[0;32m----> 1\u001b[0m \u001b[43mshp1\u001b[49m\u001b[38;5;241;43m.\u001b[39;49m\u001b[43mexterior\u001b[49m\u001b[38;5;241m.\u001b[39mcoords\u001b[38;5;241m.\u001b[39mtolist()\n",
      "\u001b[0;31mAttributeError\u001b[0m: 'MultiPolygon' object has no attribute 'exterior'"
     ]
    }
   ],
   "source": [
    "shp1.exterior.coords.tolist()"
   ]
  },
  {
   "cell_type": "code",
   "execution_count": 83,
   "metadata": {},
   "outputs": [],
   "source": [
    "un = shp([(0,0),(0,1),(1,1),(1,0)]).union(shp([(0.1,0.1),(0.1,0.9),(0.9,0.9),(0.9,0.1)]))"
   ]
  },
  {
   "cell_type": "code",
   "execution_count": 84,
   "metadata": {},
   "outputs": [
    {
     "data": {
      "text/plain": [
       "(array('d', [0.0, 1.0, 1.0, 0.0, 0.0]), array('d', [1.0, 1.0, 0.0, 0.0, 1.0]))"
      ]
     },
     "execution_count": 84,
     "metadata": {},
     "output_type": "execute_result"
    }
   ],
   "source": [
    "un.exterior.coords.xy"
   ]
  },
  {
   "cell_type": "code",
   "execution_count": 68,
   "metadata": {},
   "outputs": [
    {
     "data": {
      "text/plain": [
       "shapely.geometry.polygon.Polygon"
      ]
     },
     "execution_count": 68,
     "metadata": {},
     "output_type": "execute_result"
    }
   ],
   "source": [
    "sum([len(p.exterior.coords)])"
   ]
  },
  {
   "cell_type": "code",
   "execution_count": 78,
   "metadata": {},
   "outputs": [],
   "source": [
    "import shapely as sh\n",
    "\n",
    "def get_coords_from_polygon(shape):\n",
    "    coords = set()\n",
    "\n",
    "    if isinstance(shape, sh.geometry.Polygon):\n",
    "        coords.update(shape.exterior.coords[:-1])\n",
    "        for linearring in shape.geoms.interiors:\n",
    "            coords.update(linearring.coords[:-1])\n",
    "    elif isinstance(shape, sh.geometry.MultiPolygon):\n",
    "        for polygon in shape.geoms:\n",
    "            coords.update(get_coords_from_polygon(polygon))\n",
    "\n",
    "    return coords"
   ]
  },
  {
   "cell_type": "code",
   "execution_count": 79,
   "metadata": {},
   "outputs": [
    {
     "data": {
      "text/plain": [
       "<shapely.geometry.base.GeometrySequence at 0x11f715fd0>"
      ]
     },
     "execution_count": 79,
     "metadata": {},
     "output_type": "execute_result"
    }
   ],
   "source": [
    "shp1.geoms"
   ]
  },
  {
   "cell_type": "code",
   "execution_count": 82,
   "metadata": {},
   "outputs": [
    {
     "data": {
      "text/plain": [
       "['__and__',\n",
       " '__bool__',\n",
       " '__class__',\n",
       " '__delattr__',\n",
       " '__dir__',\n",
       " '__doc__',\n",
       " '__eq__',\n",
       " '__format__',\n",
       " '__ge__',\n",
       " '__geo_interface__',\n",
       " '__getattribute__',\n",
       " '__getstate__',\n",
       " '__gt__',\n",
       " '__hash__',\n",
       " '__init__',\n",
       " '__init_subclass__',\n",
       " '__le__',\n",
       " '__lt__',\n",
       " '__module__',\n",
       " '__ne__',\n",
       " '__new__',\n",
       " '__nonzero__',\n",
       " '__or__',\n",
       " '__reduce__',\n",
       " '__reduce_ex__',\n",
       " '__repr__',\n",
       " '__setattr__',\n",
       " '__setstate__',\n",
       " '__sizeof__',\n",
       " '__slots__',\n",
       " '__str__',\n",
       " '__sub__',\n",
       " '__subclasshook__',\n",
       " '__xor__',\n",
       " '_geom',\n",
       " '_geom_prepared',\n",
       " '_ndim',\n",
       " '_repr_svg_',\n",
       " 'almost_equals',\n",
       " 'area',\n",
       " 'boundary',\n",
       " 'bounds',\n",
       " 'buffer',\n",
       " 'centroid',\n",
       " 'contains',\n",
       " 'contains_properly',\n",
       " 'convex_hull',\n",
       " 'coords',\n",
       " 'covered_by',\n",
       " 'covers',\n",
       " 'crosses',\n",
       " 'difference',\n",
       " 'disjoint',\n",
       " 'distance',\n",
       " 'dwithin',\n",
       " 'envelope',\n",
       " 'equals',\n",
       " 'equals_exact',\n",
       " 'geom_type',\n",
       " 'geometryType',\n",
       " 'geoms',\n",
       " 'has_z',\n",
       " 'hausdorff_distance',\n",
       " 'interpolate',\n",
       " 'intersection',\n",
       " 'intersects',\n",
       " 'is_closed',\n",
       " 'is_empty',\n",
       " 'is_ring',\n",
       " 'is_simple',\n",
       " 'is_valid',\n",
       " 'length',\n",
       " 'line_interpolate_point',\n",
       " 'line_locate_point',\n",
       " 'minimum_clearance',\n",
       " 'minimum_rotated_rectangle',\n",
       " 'normalize',\n",
       " 'oriented_envelope',\n",
       " 'overlaps',\n",
       " 'point_on_surface',\n",
       " 'project',\n",
       " 'relate',\n",
       " 'relate_pattern',\n",
       " 'representative_point',\n",
       " 'reverse',\n",
       " 'segmentize',\n",
       " 'simplify',\n",
       " 'svg',\n",
       " 'symmetric_difference',\n",
       " 'touches',\n",
       " 'type',\n",
       " 'union',\n",
       " 'within',\n",
       " 'wkb',\n",
       " 'wkb_hex',\n",
       " 'wkt',\n",
       " 'xy']"
      ]
     },
     "execution_count": 82,
     "metadata": {},
     "output_type": "execute_result"
    }
   ],
   "source": [
    "dir(shp1)"
   ]
  },
  {
   "cell_type": "code",
   "execution_count": 80,
   "metadata": {},
   "outputs": [
    {
     "ename": "AttributeError",
     "evalue": "'Polygon' object has no attribute 'geoms'",
     "output_type": "error",
     "traceback": [
      "\u001b[0;31m---------------------------------------------------------------------------\u001b[0m",
      "\u001b[0;31mAttributeError\u001b[0m                            Traceback (most recent call last)",
      "Cell \u001b[0;32mIn[80], line 1\u001b[0m\n\u001b[0;32m----> 1\u001b[0m \u001b[43mget_coords_from_polygon\u001b[49m\u001b[43m(\u001b[49m\u001b[43mshp1\u001b[49m\u001b[43m)\u001b[49m\n",
      "Cell \u001b[0;32mIn[78], line 12\u001b[0m, in \u001b[0;36mget_coords_from_polygon\u001b[0;34m(shape)\u001b[0m\n\u001b[1;32m     10\u001b[0m \u001b[38;5;28;01melif\u001b[39;00m \u001b[38;5;28misinstance\u001b[39m(shape, sh\u001b[38;5;241m.\u001b[39mgeometry\u001b[38;5;241m.\u001b[39mMultiPolygon):\n\u001b[1;32m     11\u001b[0m     \u001b[38;5;28;01mfor\u001b[39;00m polygon \u001b[38;5;129;01min\u001b[39;00m shape\u001b[38;5;241m.\u001b[39mgeoms:\n\u001b[0;32m---> 12\u001b[0m         coords\u001b[38;5;241m.\u001b[39mupdate(\u001b[43mget_coords_from_polygon\u001b[49m\u001b[43m(\u001b[49m\u001b[43mpolygon\u001b[49m\u001b[43m)\u001b[49m)\n\u001b[1;32m     14\u001b[0m \u001b[38;5;28;01mreturn\u001b[39;00m coords\n",
      "Cell \u001b[0;32mIn[78], line 8\u001b[0m, in \u001b[0;36mget_coords_from_polygon\u001b[0;34m(shape)\u001b[0m\n\u001b[1;32m      6\u001b[0m \u001b[38;5;28;01mif\u001b[39;00m \u001b[38;5;28misinstance\u001b[39m(shape, sh\u001b[38;5;241m.\u001b[39mgeometry\u001b[38;5;241m.\u001b[39mPolygon):\n\u001b[1;32m      7\u001b[0m     coords\u001b[38;5;241m.\u001b[39mupdate(shape\u001b[38;5;241m.\u001b[39mexterior\u001b[38;5;241m.\u001b[39mcoords[:\u001b[38;5;241m-\u001b[39m\u001b[38;5;241m1\u001b[39m])\n\u001b[0;32m----> 8\u001b[0m     \u001b[38;5;28;01mfor\u001b[39;00m linearring \u001b[38;5;129;01min\u001b[39;00m \u001b[43mshape\u001b[49m\u001b[38;5;241;43m.\u001b[39;49m\u001b[43mgeoms\u001b[49m\u001b[38;5;241m.\u001b[39minteriors:\n\u001b[1;32m      9\u001b[0m         coords\u001b[38;5;241m.\u001b[39mupdate(linearring\u001b[38;5;241m.\u001b[39mcoords[:\u001b[38;5;241m-\u001b[39m\u001b[38;5;241m1\u001b[39m])\n\u001b[1;32m     10\u001b[0m \u001b[38;5;28;01melif\u001b[39;00m \u001b[38;5;28misinstance\u001b[39m(shape, sh\u001b[38;5;241m.\u001b[39mgeometry\u001b[38;5;241m.\u001b[39mMultiPolygon):\n",
      "\u001b[0;31mAttributeError\u001b[0m: 'Polygon' object has no attribute 'geoms'"
     ]
    }
   ],
   "source": [
    "get_coords_from_polygon(shp1)"
   ]
  },
  {
   "cell_type": "code",
   "execution_count": 72,
   "metadata": {},
   "outputs": [
    {
     "ename": "TypeError",
     "evalue": "'MultiPolygon' object is not iterable",
     "output_type": "error",
     "traceback": [
      "\u001b[0;31m---------------------------------------------------------------------------\u001b[0m",
      "\u001b[0;31mTypeError\u001b[0m                                 Traceback (most recent call last)",
      "Cell \u001b[0;32mIn[72], line 1\u001b[0m\n\u001b[0;32m----> 1\u001b[0m \u001b[38;5;28;43;01mfor\u001b[39;49;00m\u001b[43m \u001b[49m\u001b[43mp\u001b[49m\u001b[43m \u001b[49m\u001b[38;5;129;43;01min\u001b[39;49;00m\u001b[43m \u001b[49m\u001b[43mshp1\u001b[49m\u001b[43m:\u001b[49m\n\u001b[1;32m      2\u001b[0m \u001b[43m    \u001b[49m\u001b[38;5;28;43;01mpass\u001b[39;49;00m\n",
      "\u001b[0;31mTypeError\u001b[0m: 'MultiPolygon' object is not iterable"
     ]
    }
   ],
   "source": [
    "for p in shp1:\n",
    "    pass"
   ]
  },
  {
   "cell_type": "code",
   "execution_count": 69,
   "metadata": {},
   "outputs": [
    {
     "data": {
      "text/plain": [
       "(array('d', [0.0, 1.0, 0.8783783783783784, 0.9, 0.1, 0.0, 0.0]),\n",
       " array('d', [2.0, 1.0, 0.8783783783783784, 0.85, 0.1, 0.0, 2.0]))"
      ]
     },
     "execution_count": 69,
     "metadata": {},
     "output_type": "execute_result"
    }
   ],
   "source": [
    "un.exterior.coords.xy"
   ]
  },
  {
   "cell_type": "code",
   "execution_count": 66,
   "metadata": {},
   "outputs": [
    {
     "data": {
      "image/svg+xml": [
       "<svg xmlns=\"http://www.w3.org/2000/svg\" xmlns:xlink=\"http://www.w3.org/1999/xlink\" width=\"100.0\" height=\"100.0\" viewBox=\"-0.08 -0.08 1.1600000000000001 2.16\" preserveAspectRatio=\"xMinYMin meet\"><g transform=\"matrix(1,0,0,-1,0,2.0)\"><path fill-rule=\"evenodd\" fill=\"#66cc99\" stroke=\"#555555\" stroke-width=\"0.0432\" opacity=\"0.6\" d=\"M 0.0,2.0 L 1.0,1.0 L 0.9,0.9 L 0.1,0.1 L 0.0,0.0 L 0.0,2.0 z\" /></g></svg>"
      ],
      "text/plain": [
       "<POLYGON ((0 2, 1 1, 0.9 0.9, 0.1 0.1, 0 0, 0 2))>"
      ]
     },
     "execution_count": 66,
     "metadata": {},
     "output_type": "execute_result"
    }
   ],
   "source": [
    "un"
   ]
  },
  {
   "cell_type": "code",
   "execution_count": 62,
   "metadata": {},
   "outputs": [
    {
     "ename": "NotImplementedError",
     "evalue": "Sub-geometries may have coordinate sequences, but multi-part geometries do not",
     "output_type": "error",
     "traceback": [
      "\u001b[0;31m---------------------------------------------------------------------------\u001b[0m",
      "\u001b[0;31mNotImplementedError\u001b[0m                       Traceback (most recent call last)",
      "Cell \u001b[0;32mIn[62], line 1\u001b[0m\n\u001b[0;32m----> 1\u001b[0m \u001b[38;5;28mlen\u001b[39m(\u001b[43mshp1\u001b[49m\u001b[38;5;241;43m.\u001b[39;49m\u001b[43mcoords\u001b[49m\u001b[38;5;241m.\u001b[39mxy)\n",
      "File \u001b[0;32m~/Documents/Projects/biggest-mammal-map/venv/lib/python3.12/site-packages/shapely/geometry/base.py:927\u001b[0m, in \u001b[0;36mBaseMultipartGeometry.coords\u001b[0;34m(self)\u001b[0m\n\u001b[1;32m    925\u001b[0m \u001b[38;5;129m@property\u001b[39m\n\u001b[1;32m    926\u001b[0m \u001b[38;5;28;01mdef\u001b[39;00m \u001b[38;5;21mcoords\u001b[39m(\u001b[38;5;28mself\u001b[39m):\n\u001b[0;32m--> 927\u001b[0m     \u001b[38;5;28;01mraise\u001b[39;00m \u001b[38;5;167;01mNotImplementedError\u001b[39;00m(\n\u001b[1;32m    928\u001b[0m         \u001b[38;5;124m\"\u001b[39m\u001b[38;5;124mSub-geometries may have coordinate sequences, \u001b[39m\u001b[38;5;124m\"\u001b[39m\n\u001b[1;32m    929\u001b[0m         \u001b[38;5;124m\"\u001b[39m\u001b[38;5;124mbut multi-part geometries do not\u001b[39m\u001b[38;5;124m\"\u001b[39m\n\u001b[1;32m    930\u001b[0m     )\n",
      "\u001b[0;31mNotImplementedError\u001b[0m: Sub-geometries may have coordinate sequences, but multi-part geometries do not"
     ]
    }
   ],
   "source": [
    "len(shp1.coords.xy)"
   ]
  },
  {
   "cell_type": "code",
   "execution_count": 64,
   "metadata": {},
   "outputs": [
    {
     "data": {
      "text/plain": [
       "shapely.geometry.multipolygon.MultiPolygon"
      ]
     },
     "execution_count": 64,
     "metadata": {},
     "output_type": "execute_result"
    }
   ],
   "source": [
    "type(shp1)"
   ]
  },
  {
   "cell_type": "code",
   "execution_count": 54,
   "metadata": {},
   "outputs": [
    {
     "data": {
      "text/plain": [
       "['__and__',\n",
       " '__bool__',\n",
       " '__class__',\n",
       " '__delattr__',\n",
       " '__dir__',\n",
       " '__doc__',\n",
       " '__eq__',\n",
       " '__format__',\n",
       " '__ge__',\n",
       " '__geo_interface__',\n",
       " '__getattribute__',\n",
       " '__getstate__',\n",
       " '__gt__',\n",
       " '__hash__',\n",
       " '__init__',\n",
       " '__init_subclass__',\n",
       " '__le__',\n",
       " '__lt__',\n",
       " '__module__',\n",
       " '__ne__',\n",
       " '__new__',\n",
       " '__nonzero__',\n",
       " '__or__',\n",
       " '__reduce__',\n",
       " '__reduce_ex__',\n",
       " '__repr__',\n",
       " '__setattr__',\n",
       " '__setstate__',\n",
       " '__sizeof__',\n",
       " '__slots__',\n",
       " '__str__',\n",
       " '__sub__',\n",
       " '__subclasshook__',\n",
       " '__xor__',\n",
       " '_geom',\n",
       " '_geom_prepared',\n",
       " '_ndim',\n",
       " '_repr_svg_',\n",
       " 'almost_equals',\n",
       " 'area',\n",
       " 'boundary',\n",
       " 'bounds',\n",
       " 'buffer',\n",
       " 'centroid',\n",
       " 'contains',\n",
       " 'contains_properly',\n",
       " 'convex_hull',\n",
       " 'coords',\n",
       " 'covered_by',\n",
       " 'covers',\n",
       " 'crosses',\n",
       " 'difference',\n",
       " 'disjoint',\n",
       " 'distance',\n",
       " 'dwithin',\n",
       " 'envelope',\n",
       " 'equals',\n",
       " 'equals_exact',\n",
       " 'geom_type',\n",
       " 'geometryType',\n",
       " 'geoms',\n",
       " 'has_z',\n",
       " 'hausdorff_distance',\n",
       " 'interpolate',\n",
       " 'intersection',\n",
       " 'intersects',\n",
       " 'is_closed',\n",
       " 'is_empty',\n",
       " 'is_ring',\n",
       " 'is_simple',\n",
       " 'is_valid',\n",
       " 'length',\n",
       " 'line_interpolate_point',\n",
       " 'line_locate_point',\n",
       " 'minimum_clearance',\n",
       " 'minimum_rotated_rectangle',\n",
       " 'normalize',\n",
       " 'oriented_envelope',\n",
       " 'overlaps',\n",
       " 'point_on_surface',\n",
       " 'project',\n",
       " 'relate',\n",
       " 'relate_pattern',\n",
       " 'representative_point',\n",
       " 'reverse',\n",
       " 'segmentize',\n",
       " 'simplify',\n",
       " 'svg',\n",
       " 'symmetric_difference',\n",
       " 'touches',\n",
       " 'type',\n",
       " 'union',\n",
       " 'within',\n",
       " 'wkb',\n",
       " 'wkb_hex',\n",
       " 'wkt',\n",
       " 'xy']"
      ]
     },
     "execution_count": 54,
     "metadata": {},
     "output_type": "execute_result"
    }
   ],
   "source": [
    "dir(shp1)"
   ]
  },
  {
   "cell_type": "code",
   "execution_count": 86,
   "metadata": {},
   "outputs": [
    {
     "data": {
      "text/plain": [
       "[1705289624.355781,\n",
       " 0.026479005813598633,\n",
       " 1705289624.3855479,\n",
       " 0.07340812683105469,\n",
       " 1705289624.430426,\n",
       " 0.11262011528015137,\n",
       " 1705289624.554993,\n",
       " 0.4667530059814453,\n",
       " 1705289624.7830768,\n",
       " 0.7245833873748779,\n",
       " 1705289625.0710845,\n",
       " 0.9746596813201904,\n",
       " 1705289625.4632561,\n",
       " 1.3234028816223145,\n",
       " 1705289626.0801842,\n",
       " 2.0069527626037598,\n",
       " 1705289626.7109272,\n",
       " 2.400730848312378,\n",
       " 1705289627.3732152,\n",
       " 2.789341688156128,\n",
       " 1705289627.3969953,\n",
       " 4.087701797485352,\n",
       " 1705289628.8678472,\n",
       " 4.103269815444946,\n",
       " 1705289630.5094671,\n",
       " 5.346365928649902,\n",
       " 1705289631.9702892,\n",
       " 6.264864683151245]"
      ]
     },
     "execution_count": 86,
     "metadata": {},
     "output_type": "execute_result"
    }
   ],
   "source": [
    "times"
   ]
  },
  {
   "cell_type": "code",
   "execution_count": 90,
   "metadata": {},
   "outputs": [
    {
     "name": "stdout",
     "output_type": "stream",
     "text": [
      "1 1705289928.718556 0.0033168792724609375\n",
      "2 1705289928.7537653 0.04184293746948242\n"
     ]
    }
   ],
   "source": [
    "df['no_overlap_geometry'] = np.nan\n",
    "union = shp([])\n",
    "\n",
    "start = time.time()\n",
    "abs_times = [0]\n",
    "rel_times = []\n",
    "j = 0\n",
    "for i, row in gdf.head(2).iterrows():\n",
    "    this_geo = row['geometry']\n",
    "    new_geo = this_geo - union\n",
    "    gdf.loc[i, 'no_overlap_geometry'] = new_geo\n",
    "    if new_geo.area > 0:\n",
    "        union = this_geo.union(union)\n",
    "    j += 1\n",
    "    rel_times.append(time.time() - abs_times[-1] - start)\n",
    "    abs_times.append(time.time()-start)\n",
    "    print(j, rel_times[-1], abs_times[-1])"
   ]
  },
  {
   "cell_type": "code",
   "execution_count": 89,
   "metadata": {},
   "outputs": [
    {
     "data": {
      "text/plain": [
       "[1705289703.5066612, 0.022452831268310547, 1705289703.5311813]"
      ]
     },
     "execution_count": 89,
     "metadata": {},
     "output_type": "execute_result"
    }
   ],
   "source": [
    "times"
   ]
  },
  {
   "cell_type": "code",
   "execution_count": null,
   "metadata": {},
   "outputs": [],
   "source": []
  },
  {
   "cell_type": "code",
   "execution_count": null,
   "metadata": {},
   "outputs": [],
   "source": [
    "gdf['']"
   ]
  },
  {
   "cell_type": "code",
   "execution_count": 27,
   "metadata": {},
   "outputs": [
    {
     "data": {
      "text/plain": [
       "Index(['id_no', 'sci_name', 'presence', 'origin', 'seasonal', 'compiler',\n",
       "       'yrcompiled', 'citation', 'subspecies', 'subpop', 'source', 'island',\n",
       "       'tax_comm', 'dist_comm', 'generalisd', 'legend', 'kingdom', 'phylum',\n",
       "       'class', 'order_', 'family', 'genus', 'category', 'marine',\n",
       "       'terrestial', 'freshwater', 'Shape_Leng', 'Shape_Area', 'geometry',\n",
       "       'body mass'],\n",
       "      dtype='object')"
      ]
     },
     "execution_count": 27,
     "metadata": {},
     "output_type": "execute_result"
    }
   ],
   "source": [
    "gdf.columns"
   ]
  },
  {
   "cell_type": "code",
   "execution_count": 13,
   "metadata": {},
   "outputs": [],
   "source": [
    "shp1 = gdf['geometry'].values[0]\n",
    "shp2 = gdf['geometry'].values[1]"
   ]
  },
  {
   "cell_type": "code",
   "execution_count": 18,
   "metadata": {},
   "outputs": [],
   "source": [
    "b = shp1.union(shp2)"
   ]
  },
  {
   "cell_type": "code",
   "execution_count": 22,
   "metadata": {},
   "outputs": [
    {
     "data": {
      "text/plain": [
       "0.0020282179353482053"
      ]
     },
     "execution_count": 22,
     "metadata": {},
     "output_type": "execute_result"
    }
   ],
   "source": [
    "shp1.area"
   ]
  },
  {
   "cell_type": "code",
   "execution_count": 26,
   "metadata": {},
   "outputs": [
    {
     "data": {
      "image/svg+xml": [
       "<svg xmlns=\"http://www.w3.org/2000/svg\" xmlns:xlink=\"http://www.w3.org/1999/xlink\" width=\"100.0\" height=\"100.0\" viewBox=\"31.70824366502117 -26.65866586682822 0.20521220016690478 0.43351470002733805\" preserveAspectRatio=\"xMinYMin meet\"><g transform=\"matrix(1,0,0,-1,0,-52.8838170336291)\"><g><path fill-rule=\"evenodd\" fill=\"#66cc99\" stroke=\"#555555\" stroke-width=\"0.00867029400054676\" opacity=\"0.6\" d=\"M 31.76487326458954,-26.61543426637826 L 31.765354265187227,-26.61719676671737 L 31.76551426537111,-26.620882766726254 L 31.767277266632618,-26.62280526634993 L 31.7695202657477,-26.624888767102902 L 31.771336015844497,-26.628549266835137 L 31.74311976506516,-26.642609766827206 L 31.726889765750116,-26.626889766749287 L 31.72429976502218,-26.622089766629358 L 31.741798265277794,-26.61271026666543 L 31.745964765861288,-26.613671766938467 L 31.751092265795478,-26.611267766694027 L 31.752694765051444,-26.608864266472665 L 31.753816266407625,-26.604217267113142 L 31.75686126563494,-26.603095267532524 L 31.75990576573855,-26.604537767503928 L 31.762469765267497,-26.607902767099006 L 31.763591265724358,-26.611748766392395 L 31.76487326458954,-26.61543426637826 z\" /><path fill-rule=\"evenodd\" fill=\"#66cc99\" stroke=\"#555555\" stroke-width=\"0.00867029400054676\" opacity=\"0.6\" d=\"M 31.877832766668917,-26.30931026605589 L 31.868788265965748,-26.307627766708038 L 31.863378765617597,-26.302518266704624 L 31.866684765189802,-26.297709766192725 L 31.86728576592543,-26.290496765413366 L 31.874198264538336,-26.26284626644201 L 31.87269526447494,-26.25923976650199 L 31.867886765761682,-26.24210876610664 L 31.875400266009535,-26.241207266801894 L 31.884416764522143,-26.241207266801894 L 31.892531266404887,-26.24210876610664 L 31.89739976518706,-26.244013767621254 L 31.886821266588242,-26.26164426766877 L 31.877832766668917,-26.30931026605589 z\" /></g></g></svg>"
      ],
      "text/plain": [
       "<MULTIPOLYGON (((31.765 -26.615, 31.765 -26.617, 31.766 -26.621, 31.767 -26....>"
      ]
     },
     "execution_count": 26,
     "metadata": {},
     "output_type": "execute_result"
    }
   ],
   "source": [
    "shp1-shp2"
   ]
  },
  {
   "cell_type": "code",
   "execution_count": 21,
   "metadata": {},
   "outputs": [
    {
     "data": {
      "text/plain": [
       "139.32198659548118"
      ]
     },
     "execution_count": 21,
     "metadata": {},
     "output_type": "execute_result"
    }
   ],
   "source": [
    "shp2.area"
   ]
  },
  {
   "cell_type": "code",
   "execution_count": 20,
   "metadata": {},
   "outputs": [
    {
     "data": {
      "text/plain": [
       "139.32401481341662"
      ]
     },
     "execution_count": 20,
     "metadata": {},
     "output_type": "execute_result"
    }
   ],
   "source": [
    "b.area"
   ]
  },
  {
   "cell_type": "code",
   "execution_count": 16,
   "metadata": {},
   "outputs": [
    {
     "data": {
      "text/html": [
       "<div>\n",
       "<style scoped>\n",
       "    .dataframe tbody tr th:only-of-type {\n",
       "        vertical-align: middle;\n",
       "    }\n",
       "\n",
       "    .dataframe tbody tr th {\n",
       "        vertical-align: top;\n",
       "    }\n",
       "\n",
       "    .dataframe thead th {\n",
       "        text-align: right;\n",
       "    }\n",
       "</style>\n",
       "<table border=\"1\" class=\"dataframe\">\n",
       "  <thead>\n",
       "    <tr style=\"text-align: right;\">\n",
       "      <th></th>\n",
       "      <th>id_no</th>\n",
       "      <th>sci_name</th>\n",
       "      <th>presence</th>\n",
       "      <th>origin</th>\n",
       "      <th>seasonal</th>\n",
       "      <th>compiler</th>\n",
       "      <th>yrcompiled</th>\n",
       "      <th>citation</th>\n",
       "      <th>subspecies</th>\n",
       "      <th>subpop</th>\n",
       "      <th>...</th>\n",
       "      <th>family</th>\n",
       "      <th>genus</th>\n",
       "      <th>category</th>\n",
       "      <th>marine</th>\n",
       "      <th>terrestial</th>\n",
       "      <th>freshwater</th>\n",
       "      <th>Shape_Leng</th>\n",
       "      <th>Shape_Area</th>\n",
       "      <th>geometry</th>\n",
       "      <th>body mass</th>\n",
       "    </tr>\n",
       "  </thead>\n",
       "  <tbody>\n",
       "    <tr>\n",
       "      <th>3782</th>\n",
       "      <td>181008073</td>\n",
       "      <td>Loxodonta africana</td>\n",
       "      <td>1</td>\n",
       "      <td>2</td>\n",
       "      <td>1</td>\n",
       "      <td>IUCN SSC African Elephant Specialist Group</td>\n",
       "      <td>2021</td>\n",
       "      <td>IUCN SSC African Elephant Specialist Group</td>\n",
       "      <td>None</td>\n",
       "      <td>None</td>\n",
       "      <td>...</td>\n",
       "      <td>ELEPHANTIDAE</td>\n",
       "      <td>Loxodonta</td>\n",
       "      <td>EN</td>\n",
       "      <td>false</td>\n",
       "      <td>true</td>\n",
       "      <td>false</td>\n",
       "      <td>0.310021</td>\n",
       "      <td>0.002028</td>\n",
       "      <td>MULTIPOLYGON (((31.76359 -26.61175, 31.76487 -...</td>\n",
       "      <td>6000.000</td>\n",
       "    </tr>\n",
       "    <tr>\n",
       "      <th>3781</th>\n",
       "      <td>181008073</td>\n",
       "      <td>Loxodonta africana</td>\n",
       "      <td>1</td>\n",
       "      <td>1</td>\n",
       "      <td>1</td>\n",
       "      <td>IUCN SSC African Elephant Specialist Group</td>\n",
       "      <td>2021</td>\n",
       "      <td>IUCN SSC African Elephant Specialist Group</td>\n",
       "      <td>None</td>\n",
       "      <td>None</td>\n",
       "      <td>...</td>\n",
       "      <td>ELEPHANTIDAE</td>\n",
       "      <td>Loxodonta</td>\n",
       "      <td>EN</td>\n",
       "      <td>false</td>\n",
       "      <td>true</td>\n",
       "      <td>false</td>\n",
       "      <td>518.449852</td>\n",
       "      <td>139.321987</td>\n",
       "      <td>MULTIPOLYGON (((22.97502 -34.07926, 22.97567 -...</td>\n",
       "      <td>6000.000</td>\n",
       "    </tr>\n",
       "    <tr>\n",
       "      <th>3780</th>\n",
       "      <td>181008073</td>\n",
       "      <td>Loxodonta africana</td>\n",
       "      <td>4</td>\n",
       "      <td>1</td>\n",
       "      <td>1</td>\n",
       "      <td>IUCN SSC African Elephant Specialist Group</td>\n",
       "      <td>2021</td>\n",
       "      <td>IUCN SSC African Elephant Specialist Group</td>\n",
       "      <td>None</td>\n",
       "      <td>None</td>\n",
       "      <td>...</td>\n",
       "      <td>ELEPHANTIDAE</td>\n",
       "      <td>Loxodonta</td>\n",
       "      <td>EN</td>\n",
       "      <td>false</td>\n",
       "      <td>true</td>\n",
       "      <td>false</td>\n",
       "      <td>271.889957</td>\n",
       "      <td>69.553075</td>\n",
       "      <td>MULTIPOLYGON (((29.23323 -21.74140, 29.26674 -...</td>\n",
       "      <td>6000.000</td>\n",
       "    </tr>\n",
       "    <tr>\n",
       "      <th>3779</th>\n",
       "      <td>181008073</td>\n",
       "      <td>Loxodonta africana</td>\n",
       "      <td>3</td>\n",
       "      <td>1</td>\n",
       "      <td>1</td>\n",
       "      <td>IUCN SSC African Elephant Specialist Group</td>\n",
       "      <td>2021</td>\n",
       "      <td>IUCN SSC African Elephant Specialist Group</td>\n",
       "      <td>None</td>\n",
       "      <td>None</td>\n",
       "      <td>...</td>\n",
       "      <td>ELEPHANTIDAE</td>\n",
       "      <td>Loxodonta</td>\n",
       "      <td>EN</td>\n",
       "      <td>false</td>\n",
       "      <td>true</td>\n",
       "      <td>false</td>\n",
       "      <td>223.518362</td>\n",
       "      <td>58.928504</td>\n",
       "      <td>MULTIPOLYGON (((32.47534 -20.13611, 32.48143 -...</td>\n",
       "      <td>6000.000</td>\n",
       "    </tr>\n",
       "    <tr>\n",
       "      <th>8078</th>\n",
       "      <td>7140</td>\n",
       "      <td>Elephas maximus</td>\n",
       "      <td>3</td>\n",
       "      <td>5</td>\n",
       "      <td>1</td>\n",
       "      <td>IUCN/SSC AsESG, WCS, WWF</td>\n",
       "      <td>2020</td>\n",
       "      <td>IUCN/SSC AsESG, WCS, WWF</td>\n",
       "      <td>None</td>\n",
       "      <td>None</td>\n",
       "      <td>...</td>\n",
       "      <td>ELEPHANTIDAE</td>\n",
       "      <td>Elephas</td>\n",
       "      <td>EN</td>\n",
       "      <td>false</td>\n",
       "      <td>true</td>\n",
       "      <td>false</td>\n",
       "      <td>246.534093</td>\n",
       "      <td>9.490031</td>\n",
       "      <td>MULTIPOLYGON (((103.81783 -4.38439, 103.77385 ...</td>\n",
       "      <td>4500.000</td>\n",
       "    </tr>\n",
       "    <tr>\n",
       "      <th>...</th>\n",
       "      <td>...</td>\n",
       "      <td>...</td>\n",
       "      <td>...</td>\n",
       "      <td>...</td>\n",
       "      <td>...</td>\n",
       "      <td>...</td>\n",
       "      <td>...</td>\n",
       "      <td>...</td>\n",
       "      <td>...</td>\n",
       "      <td>...</td>\n",
       "      <td>...</td>\n",
       "      <td>...</td>\n",
       "      <td>...</td>\n",
       "      <td>...</td>\n",
       "      <td>...</td>\n",
       "      <td>...</td>\n",
       "      <td>...</td>\n",
       "      <td>...</td>\n",
       "      <td>...</td>\n",
       "      <td>...</td>\n",
       "      <td>...</td>\n",
       "    </tr>\n",
       "    <tr>\n",
       "      <th>3563</th>\n",
       "      <td>29662</td>\n",
       "      <td>Sorex caecutiens</td>\n",
       "      <td>1</td>\n",
       "      <td>1</td>\n",
       "      <td>1</td>\n",
       "      <td>IUCN</td>\n",
       "      <td>2012</td>\n",
       "      <td>IUCN (International Union for Conservation of ...</td>\n",
       "      <td>None</td>\n",
       "      <td>None</td>\n",
       "      <td>...</td>\n",
       "      <td>SORICIDAE</td>\n",
       "      <td>Sorex</td>\n",
       "      <td>LC</td>\n",
       "      <td>false</td>\n",
       "      <td>true</td>\n",
       "      <td>false</td>\n",
       "      <td>0.950475</td>\n",
       "      <td>0.050470</td>\n",
       "      <td>POLYGON ((156.40591 50.64036, 156.40639 50.638...</td>\n",
       "      <td>0.010</td>\n",
       "    </tr>\n",
       "    <tr>\n",
       "      <th>965</th>\n",
       "      <td>41422</td>\n",
       "      <td>Sorex tundrensis</td>\n",
       "      <td>1</td>\n",
       "      <td>1</td>\n",
       "      <td>1</td>\n",
       "      <td>IUCN</td>\n",
       "      <td>2012</td>\n",
       "      <td>IUCN (International Union for Conservation of ...</td>\n",
       "      <td>None</td>\n",
       "      <td>None</td>\n",
       "      <td>...</td>\n",
       "      <td>SORICIDAE</td>\n",
       "      <td>Sorex</td>\n",
       "      <td>LC</td>\n",
       "      <td>false</td>\n",
       "      <td>true</td>\n",
       "      <td>false</td>\n",
       "      <td>953.025010</td>\n",
       "      <td>2698.008609</td>\n",
       "      <td>MULTIPOLYGON (((81.54186 45.11874, 81.72656 45...</td>\n",
       "      <td>0.010</td>\n",
       "    </tr>\n",
       "    <tr>\n",
       "      <th>2355</th>\n",
       "      <td>29667</td>\n",
       "      <td>Sorex minutus</td>\n",
       "      <td>1</td>\n",
       "      <td>1</td>\n",
       "      <td>1</td>\n",
       "      <td>IUCN</td>\n",
       "      <td>2008</td>\n",
       "      <td>IUCN (International Union for Conservation of ...</td>\n",
       "      <td>None</td>\n",
       "      <td>None</td>\n",
       "      <td>...</td>\n",
       "      <td>SORICIDAE</td>\n",
       "      <td>Sorex</td>\n",
       "      <td>LC</td>\n",
       "      <td>false</td>\n",
       "      <td>true</td>\n",
       "      <td>false</td>\n",
       "      <td>1357.221893</td>\n",
       "      <td>2064.400425</td>\n",
       "      <td>MULTIPOLYGON (((83.64068 26.61991, 83.28411 26...</td>\n",
       "      <td>0.004</td>\n",
       "    </tr>\n",
       "    <tr>\n",
       "      <th>2354</th>\n",
       "      <td>29667</td>\n",
       "      <td>Sorex minutus</td>\n",
       "      <td>2</td>\n",
       "      <td>1</td>\n",
       "      <td>1</td>\n",
       "      <td>IUCN</td>\n",
       "      <td>2008</td>\n",
       "      <td>IUCN (International Union for Conservation of ...</td>\n",
       "      <td>None</td>\n",
       "      <td>None</td>\n",
       "      <td>...</td>\n",
       "      <td>SORICIDAE</td>\n",
       "      <td>Sorex</td>\n",
       "      <td>LC</td>\n",
       "      <td>false</td>\n",
       "      <td>true</td>\n",
       "      <td>false</td>\n",
       "      <td>7.927799</td>\n",
       "      <td>1.513192</td>\n",
       "      <td>POLYGON ((75.49854 32.28351, 75.37968 32.25822...</td>\n",
       "      <td>0.004</td>\n",
       "    </tr>\n",
       "    <tr>\n",
       "      <th>8562</th>\n",
       "      <td>29666</td>\n",
       "      <td>Sorex minutissimus</td>\n",
       "      <td>1</td>\n",
       "      <td>1</td>\n",
       "      <td>1</td>\n",
       "      <td>IUCN</td>\n",
       "      <td>2008</td>\n",
       "      <td>IUCN (International Union for Conservation of ...</td>\n",
       "      <td>None</td>\n",
       "      <td>None</td>\n",
       "      <td>...</td>\n",
       "      <td>SORICIDAE</td>\n",
       "      <td>Sorex</td>\n",
       "      <td>LC</td>\n",
       "      <td>false</td>\n",
       "      <td>true</td>\n",
       "      <td>false</td>\n",
       "      <td>741.607164</td>\n",
       "      <td>2824.451116</td>\n",
       "      <td>MULTIPOLYGON (((10.21144 63.54330, 10.20181 63...</td>\n",
       "      <td>0.003</td>\n",
       "    </tr>\n",
       "  </tbody>\n",
       "</table>\n",
       "<p>568 rows × 30 columns</p>\n",
       "</div>"
      ],
      "text/plain": [
       "          id_no            sci_name  presence  origin  seasonal  \\\n",
       "3782  181008073  Loxodonta africana         1       2         1   \n",
       "3781  181008073  Loxodonta africana         1       1         1   \n",
       "3780  181008073  Loxodonta africana         4       1         1   \n",
       "3779  181008073  Loxodonta africana         3       1         1   \n",
       "8078       7140     Elephas maximus         3       5         1   \n",
       "...         ...                 ...       ...     ...       ...   \n",
       "3563      29662    Sorex caecutiens         1       1         1   \n",
       "965       41422    Sorex tundrensis         1       1         1   \n",
       "2355      29667       Sorex minutus         1       1         1   \n",
       "2354      29667       Sorex minutus         2       1         1   \n",
       "8562      29666  Sorex minutissimus         1       1         1   \n",
       "\n",
       "                                        compiler  yrcompiled  \\\n",
       "3782  IUCN SSC African Elephant Specialist Group        2021   \n",
       "3781  IUCN SSC African Elephant Specialist Group        2021   \n",
       "3780  IUCN SSC African Elephant Specialist Group        2021   \n",
       "3779  IUCN SSC African Elephant Specialist Group        2021   \n",
       "8078                    IUCN/SSC AsESG, WCS, WWF        2020   \n",
       "...                                          ...         ...   \n",
       "3563                                        IUCN        2012   \n",
       "965                                         IUCN        2012   \n",
       "2355                                        IUCN        2008   \n",
       "2354                                        IUCN        2008   \n",
       "8562                                        IUCN        2008   \n",
       "\n",
       "                                               citation subspecies subpop  \\\n",
       "3782         IUCN SSC African Elephant Specialist Group       None   None   \n",
       "3781         IUCN SSC African Elephant Specialist Group       None   None   \n",
       "3780         IUCN SSC African Elephant Specialist Group       None   None   \n",
       "3779         IUCN SSC African Elephant Specialist Group       None   None   \n",
       "8078                           IUCN/SSC AsESG, WCS, WWF       None   None   \n",
       "...                                                 ...        ...    ...   \n",
       "3563  IUCN (International Union for Conservation of ...       None   None   \n",
       "965   IUCN (International Union for Conservation of ...       None   None   \n",
       "2355  IUCN (International Union for Conservation of ...       None   None   \n",
       "2354  IUCN (International Union for Conservation of ...       None   None   \n",
       "8562  IUCN (International Union for Conservation of ...       None   None   \n",
       "\n",
       "      ...        family      genus category marine  terrestial freshwater  \\\n",
       "3782  ...  ELEPHANTIDAE  Loxodonta       EN  false        true      false   \n",
       "3781  ...  ELEPHANTIDAE  Loxodonta       EN  false        true      false   \n",
       "3780  ...  ELEPHANTIDAE  Loxodonta       EN  false        true      false   \n",
       "3779  ...  ELEPHANTIDAE  Loxodonta       EN  false        true      false   \n",
       "8078  ...  ELEPHANTIDAE    Elephas       EN  false        true      false   \n",
       "...   ...           ...        ...      ...    ...         ...        ...   \n",
       "3563  ...     SORICIDAE      Sorex       LC  false        true      false   \n",
       "965   ...     SORICIDAE      Sorex       LC  false        true      false   \n",
       "2355  ...     SORICIDAE      Sorex       LC  false        true      false   \n",
       "2354  ...     SORICIDAE      Sorex       LC  false        true      false   \n",
       "8562  ...     SORICIDAE      Sorex       LC  false        true      false   \n",
       "\n",
       "       Shape_Leng   Shape_Area  \\\n",
       "3782     0.310021     0.002028   \n",
       "3781   518.449852   139.321987   \n",
       "3780   271.889957    69.553075   \n",
       "3779   223.518362    58.928504   \n",
       "8078   246.534093     9.490031   \n",
       "...           ...          ...   \n",
       "3563     0.950475     0.050470   \n",
       "965    953.025010  2698.008609   \n",
       "2355  1357.221893  2064.400425   \n",
       "2354     7.927799     1.513192   \n",
       "8562   741.607164  2824.451116   \n",
       "\n",
       "                                               geometry body mass  \n",
       "3782  MULTIPOLYGON (((31.76359 -26.61175, 31.76487 -...  6000.000  \n",
       "3781  MULTIPOLYGON (((22.97502 -34.07926, 22.97567 -...  6000.000  \n",
       "3780  MULTIPOLYGON (((29.23323 -21.74140, 29.26674 -...  6000.000  \n",
       "3779  MULTIPOLYGON (((32.47534 -20.13611, 32.48143 -...  6000.000  \n",
       "8078  MULTIPOLYGON (((103.81783 -4.38439, 103.77385 ...  4500.000  \n",
       "...                                                 ...       ...  \n",
       "3563  POLYGON ((156.40591 50.64036, 156.40639 50.638...     0.010  \n",
       "965   MULTIPOLYGON (((81.54186 45.11874, 81.72656 45...     0.010  \n",
       "2355  MULTIPOLYGON (((83.64068 26.61991, 83.28411 26...     0.004  \n",
       "2354  POLYGON ((75.49854 32.28351, 75.37968 32.25822...     0.004  \n",
       "8562  MULTIPOLYGON (((10.21144 63.54330, 10.20181 63...     0.003  \n",
       "\n",
       "[568 rows x 30 columns]"
      ]
     },
     "execution_count": 16,
     "metadata": {},
     "output_type": "execute_result"
    }
   ],
   "source": [
    "gdf"
   ]
  },
  {
   "cell_type": "code",
   "execution_count": 12,
   "metadata": {},
   "outputs": [
    {
     "data": {
      "image/svg+xml": [
       "<svg xmlns=\"http://www.w3.org/2000/svg\" xmlns:xlink=\"http://www.w3.org/1999/xlink\" />"
      ],
      "text/plain": [
       "<POLYGON EMPTY>"
      ]
     },
     "execution_count": 12,
     "metadata": {},
     "output_type": "execute_result"
    }
   ],
   "source": [
    "union"
   ]
  },
  {
   "cell_type": "code",
   "execution_count": null,
   "metadata": {},
   "outputs": [],
   "source": [
    "for "
   ]
  },
  {
   "cell_type": "code",
   "execution_count": null,
   "metadata": {},
   "outputs": [],
   "source": [
    "gdf['no_overlap_geometry'] = np.nan"
   ]
  },
  {
   "cell_type": "code",
   "execution_count": 8,
   "metadata": {},
   "outputs": [],
   "source": [
    "import shapely as shp"
   ]
  },
  {
   "cell_type": "code",
   "execution_count": null,
   "metadata": {},
   "outputs": [
    {
     "data": {
      "text/plain": [
       "81"
      ]
     },
     "execution_count": 46,
     "metadata": {},
     "output_type": "execute_result"
    }
   ],
   "source": [
    "len(gdf['sci_name'].unique())"
   ]
  },
  {
   "cell_type": "code",
   "execution_count": null,
   "metadata": {},
   "outputs": [
    {
     "data": {
      "text/html": [
       "<div>\n",
       "<style scoped>\n",
       "    .dataframe tbody tr th:only-of-type {\n",
       "        vertical-align: middle;\n",
       "    }\n",
       "\n",
       "    .dataframe tbody tr th {\n",
       "        vertical-align: top;\n",
       "    }\n",
       "\n",
       "    .dataframe thead th {\n",
       "        text-align: right;\n",
       "    }\n",
       "</style>\n",
       "<table border=\"1\" class=\"dataframe\">\n",
       "  <thead>\n",
       "    <tr style=\"text-align: right;\">\n",
       "      <th></th>\n",
       "      <th>sci_name</th>\n",
       "      <th>body mass</th>\n",
       "    </tr>\n",
       "  </thead>\n",
       "  <tbody>\n",
       "    <tr>\n",
       "      <th>0</th>\n",
       "      <td>Syncerus caffer</td>\n",
       "      <td>700.00</td>\n",
       "    </tr>\n",
       "    <tr>\n",
       "      <th>1</th>\n",
       "      <td>Tragelaphus eurycerus</td>\n",
       "      <td>350.00</td>\n",
       "    </tr>\n",
       "    <tr>\n",
       "      <th>2</th>\n",
       "      <td>Panthera tigris</td>\n",
       "      <td>230.00</td>\n",
       "    </tr>\n",
       "    <tr>\n",
       "      <th>3</th>\n",
       "      <td>Cervus canadensis</td>\n",
       "      <td>300.00</td>\n",
       "    </tr>\n",
       "    <tr>\n",
       "      <th>4</th>\n",
       "      <td>Gorilla gorilla</td>\n",
       "      <td>140.00</td>\n",
       "    </tr>\n",
       "    <tr>\n",
       "      <th>...</th>\n",
       "      <td>...</td>\n",
       "      <td>...</td>\n",
       "    </tr>\n",
       "    <tr>\n",
       "      <th>5255</th>\n",
       "      <td>Bos gaurus</td>\n",
       "      <td>950.00</td>\n",
       "    </tr>\n",
       "    <tr>\n",
       "      <th>5265</th>\n",
       "      <td>Bison bonasus</td>\n",
       "      <td>780.00</td>\n",
       "    </tr>\n",
       "    <tr>\n",
       "      <th>5514</th>\n",
       "      <td>Alexandromys oeconomus</td>\n",
       "      <td>0.05</td>\n",
       "    </tr>\n",
       "    <tr>\n",
       "      <th>5524</th>\n",
       "      <td>Alces alces</td>\n",
       "      <td>630.00</td>\n",
       "    </tr>\n",
       "    <tr>\n",
       "      <th>5566</th>\n",
       "      <td>Ailuropoda melanoleuca</td>\n",
       "      <td>115.00</td>\n",
       "    </tr>\n",
       "  </tbody>\n",
       "</table>\n",
       "<p>81 rows × 2 columns</p>\n",
       "</div>"
      ],
      "text/plain": [
       "                    sci_name  body mass\n",
       "0            Syncerus caffer     700.00\n",
       "1      Tragelaphus eurycerus     350.00\n",
       "2            Panthera tigris     230.00\n",
       "3          Cervus canadensis     300.00\n",
       "4            Gorilla gorilla     140.00\n",
       "...                      ...        ...\n",
       "5255              Bos gaurus     950.00\n",
       "5265           Bison bonasus     780.00\n",
       "5514  Alexandromys oeconomus       0.05\n",
       "5524             Alces alces     630.00\n",
       "5566  Ailuropoda melanoleuca     115.00\n",
       "\n",
       "[81 rows x 2 columns]"
      ]
     },
     "execution_count": 38,
     "metadata": {},
     "output_type": "execute_result"
    }
   ],
   "source": [
    "masses[masses['body mass'].notnull()]"
   ]
  },
  {
   "cell_type": "code",
   "execution_count": null,
   "metadata": {},
   "outputs": [
    {
     "data": {
      "text/plain": [
       "5633"
      ]
     },
     "execution_count": 26,
     "metadata": {},
     "output_type": "execute_result"
    }
   ],
   "source": [
    "len(masses)"
   ]
  },
  {
   "cell_type": "code",
   "execution_count": null,
   "metadata": {},
   "outputs": [
    {
     "data": {
      "text/plain": [
       "5633"
      ]
     },
     "execution_count": 28,
     "metadata": {},
     "output_type": "execute_result"
    }
   ],
   "source": [
    "len(gdf['sci_name'].unique())"
   ]
  },
  {
   "cell_type": "code",
   "execution_count": null,
   "metadata": {},
   "outputs": [
    {
     "data": {
      "text/html": [
       "<div>\n",
       "<style scoped>\n",
       "    .dataframe tbody tr th:only-of-type {\n",
       "        vertical-align: middle;\n",
       "    }\n",
       "\n",
       "    .dataframe tbody tr th {\n",
       "        vertical-align: top;\n",
       "    }\n",
       "\n",
       "    .dataframe thead th {\n",
       "        text-align: right;\n",
       "    }\n",
       "</style>\n",
       "<table border=\"1\" class=\"dataframe\">\n",
       "  <thead>\n",
       "    <tr style=\"text-align: right;\">\n",
       "      <th></th>\n",
       "      <th>id_no</th>\n",
       "      <th>sci_name</th>\n",
       "      <th>presence</th>\n",
       "      <th>origin</th>\n",
       "      <th>seasonal</th>\n",
       "      <th>compiler</th>\n",
       "      <th>yrcompiled</th>\n",
       "      <th>citation</th>\n",
       "      <th>subspecies</th>\n",
       "      <th>subpop</th>\n",
       "      <th>...</th>\n",
       "      <th>order_</th>\n",
       "      <th>family</th>\n",
       "      <th>genus</th>\n",
       "      <th>category</th>\n",
       "      <th>marine</th>\n",
       "      <th>terrestial</th>\n",
       "      <th>freshwater</th>\n",
       "      <th>Shape_Leng</th>\n",
       "      <th>Shape_Area</th>\n",
       "      <th>geometry</th>\n",
       "    </tr>\n",
       "  </thead>\n",
       "  <tbody>\n",
       "    <tr>\n",
       "      <th>11245</th>\n",
       "      <td>19495</td>\n",
       "      <td>Rhinoceros sondaicus</td>\n",
       "      <td>1</td>\n",
       "      <td>1</td>\n",
       "      <td>1</td>\n",
       "      <td>IUCN</td>\n",
       "      <td>2020</td>\n",
       "      <td>IUCN (International Union for Conservation of ...</td>\n",
       "      <td>None</td>\n",
       "      <td>None</td>\n",
       "      <td>...</td>\n",
       "      <td>PERISSODACTYLA</td>\n",
       "      <td>RHINOCEROTIDAE</td>\n",
       "      <td>Rhinoceros</td>\n",
       "      <td>CR</td>\n",
       "      <td>false</td>\n",
       "      <td>true</td>\n",
       "      <td>false</td>\n",
       "      <td>30.961061</td>\n",
       "      <td>10.314619</td>\n",
       "      <td>POLYGON ((112.58089 -6.92902, 112.57632 -6.928...</td>\n",
       "    </tr>\n",
       "  </tbody>\n",
       "</table>\n",
       "<p>1 rows × 29 columns</p>\n",
       "</div>"
      ],
      "text/plain": [
       "       id_no              sci_name  presence  origin  seasonal compiler  \\\n",
       "11245  19495  Rhinoceros sondaicus         1       1         1     IUCN   \n",
       "\n",
       "       yrcompiled                                           citation  \\\n",
       "11245        2020  IUCN (International Union for Conservation of ...   \n",
       "\n",
       "      subspecies subpop  ...          order_          family       genus  \\\n",
       "11245       None   None  ...  PERISSODACTYLA  RHINOCEROTIDAE  Rhinoceros   \n",
       "\n",
       "      category  marine terrestial freshwater Shape_Leng Shape_Area  \\\n",
       "11245       CR   false       true      false  30.961061  10.314619   \n",
       "\n",
       "                                                geometry  \n",
       "11245  POLYGON ((112.58089 -6.92902, 112.57632 -6.928...  \n",
       "\n",
       "[1 rows x 29 columns]"
      ]
     },
     "execution_count": 29,
     "metadata": {},
     "output_type": "execute_result"
    }
   ],
   "source": [
    "gdf[gdf['sci_name'].str.contains('Rhinoceros')]"
   ]
  },
  {
   "cell_type": "code",
   "execution_count": null,
   "metadata": {},
   "outputs": [
    {
     "data": {
      "text/html": [
       "<div>\n",
       "<style scoped>\n",
       "    .dataframe tbody tr th:only-of-type {\n",
       "        vertical-align: middle;\n",
       "    }\n",
       "\n",
       "    .dataframe tbody tr th {\n",
       "        vertical-align: top;\n",
       "    }\n",
       "\n",
       "    .dataframe thead th {\n",
       "        text-align: right;\n",
       "    }\n",
       "</style>\n",
       "<table border=\"1\" class=\"dataframe\">\n",
       "  <thead>\n",
       "    <tr style=\"text-align: right;\">\n",
       "      <th></th>\n",
       "      <th>sci_name</th>\n",
       "      <th>body mass</th>\n",
       "    </tr>\n",
       "  </thead>\n",
       "  <tbody>\n",
       "    <tr>\n",
       "      <th>0</th>\n",
       "      <td>Paradoxurus jerdoni</td>\n",
       "      <td>NaN</td>\n",
       "    </tr>\n",
       "    <tr>\n",
       "      <th>1</th>\n",
       "      <td>Lophostoma occidentalis</td>\n",
       "      <td>NaN</td>\n",
       "    </tr>\n",
       "    <tr>\n",
       "      <th>2</th>\n",
       "      <td>Microcebus boraha</td>\n",
       "      <td>NaN</td>\n",
       "    </tr>\n",
       "    <tr>\n",
       "      <th>3</th>\n",
       "      <td>Pseudomys pilligaensis</td>\n",
       "      <td>NaN</td>\n",
       "    </tr>\n",
       "    <tr>\n",
       "      <th>4</th>\n",
       "      <td>Echiothrix leucura</td>\n",
       "      <td>NaN</td>\n",
       "    </tr>\n",
       "    <tr>\n",
       "      <th>...</th>\n",
       "      <td>...</td>\n",
       "      <td>...</td>\n",
       "    </tr>\n",
       "    <tr>\n",
       "      <th>5838</th>\n",
       "      <td>Acomys percivali</td>\n",
       "      <td>NaN</td>\n",
       "    </tr>\n",
       "    <tr>\n",
       "      <th>5839</th>\n",
       "      <td>Nasuella meridensis</td>\n",
       "      <td>NaN</td>\n",
       "    </tr>\n",
       "    <tr>\n",
       "      <th>5840</th>\n",
       "      <td>Microtus liechtensteini</td>\n",
       "      <td>NaN</td>\n",
       "    </tr>\n",
       "    <tr>\n",
       "      <th>5841</th>\n",
       "      <td>Euroscaptor longirostris</td>\n",
       "      <td>NaN</td>\n",
       "    </tr>\n",
       "    <tr>\n",
       "      <th>5842</th>\n",
       "      <td>Pipistrellus kuhlii</td>\n",
       "      <td>NaN</td>\n",
       "    </tr>\n",
       "  </tbody>\n",
       "</table>\n",
       "<p>5843 rows × 2 columns</p>\n",
       "</div>"
      ],
      "text/plain": [
       "                      sci_name  body mass\n",
       "0          Paradoxurus jerdoni        NaN\n",
       "1      Lophostoma occidentalis        NaN\n",
       "2            Microcebus boraha        NaN\n",
       "3       Pseudomys pilligaensis        NaN\n",
       "4           Echiothrix leucura        NaN\n",
       "...                        ...        ...\n",
       "5838          Acomys percivali        NaN\n",
       "5839       Nasuella meridensis        NaN\n",
       "5840   Microtus liechtensteini        NaN\n",
       "5841  Euroscaptor longirostris        NaN\n",
       "5842       Pipistrellus kuhlii        NaN\n",
       "\n",
       "[5843 rows x 2 columns]"
      ]
     },
     "execution_count": 5,
     "metadata": {},
     "output_type": "execute_result"
    }
   ],
   "source": [
    "masses"
   ]
  },
  {
   "cell_type": "markdown",
   "metadata": {},
   "source": [
    "# Read in Shapefile as Geopandas Dataframe"
   ]
  },
  {
   "cell_type": "code",
   "execution_count": null,
   "metadata": {},
   "outputs": [
    {
     "data": {
      "text/plain": [
       "Index(['id_no', 'sci_name', 'presence', 'origin', 'seasonal', 'compiler',\n",
       "       'yrcompiled', 'citation', 'subspecies', 'subpop', 'source', 'island',\n",
       "       'tax_comm', 'dist_comm', 'generalisd', 'legend', 'kingdom', 'phylum',\n",
       "       'class', 'order_', 'family', 'genus', 'category', 'marine',\n",
       "       'terrestial', 'freshwater', 'Shape_Leng', 'Shape_Area', 'geometry'],\n",
       "      dtype='object')"
      ]
     },
     "execution_count": 30,
     "metadata": {},
     "output_type": "execute_result"
    }
   ],
   "source": [
    "gdf.columns"
   ]
  },
  {
   "cell_type": "code",
   "execution_count": null,
   "metadata": {},
   "outputs": [],
   "source": [
    "df2 = pd.DataFrame(gdf[['sci_name','Shape_Area']])"
   ]
  },
  {
   "cell_type": "code",
   "execution_count": null,
   "metadata": {},
   "outputs": [
    {
     "data": {
      "text/html": [
       "<div>\n",
       "<style scoped>\n",
       "    .dataframe tbody tr th:only-of-type {\n",
       "        vertical-align: middle;\n",
       "    }\n",
       "\n",
       "    .dataframe tbody tr th {\n",
       "        vertical-align: top;\n",
       "    }\n",
       "\n",
       "    .dataframe thead th {\n",
       "        text-align: right;\n",
       "    }\n",
       "</style>\n",
       "<table border=\"1\" class=\"dataframe\">\n",
       "  <thead>\n",
       "    <tr style=\"text-align: right;\">\n",
       "      <th></th>\n",
       "      <th>genus</th>\n",
       "      <th>species</th>\n",
       "      <th>body mass - maximum</th>\n",
       "    </tr>\n",
       "  </thead>\n",
       "  <tbody>\n",
       "    <tr>\n",
       "      <th>0</th>\n",
       "      <td>Hyla</td>\n",
       "      <td>Hyla versicolor</td>\n",
       "      <td>NaN</td>\n",
       "    </tr>\n",
       "    <tr>\n",
       "      <th>1</th>\n",
       "      <td>Pseudacris</td>\n",
       "      <td>Pseudacris triseriata</td>\n",
       "      <td>NaN</td>\n",
       "    </tr>\n",
       "    <tr>\n",
       "      <th>2</th>\n",
       "      <td>Acris</td>\n",
       "      <td>Acris crepitans</td>\n",
       "      <td>NaN</td>\n",
       "    </tr>\n",
       "    <tr>\n",
       "      <th>3</th>\n",
       "      <td>Platymantis</td>\n",
       "      <td>Platymantis vitiensis</td>\n",
       "      <td>NaN</td>\n",
       "    </tr>\n",
       "    <tr>\n",
       "      <th>4</th>\n",
       "      <td>Rana</td>\n",
       "      <td>Rana sylvatica</td>\n",
       "      <td>NaN</td>\n",
       "    </tr>\n",
       "    <tr>\n",
       "      <th>...</th>\n",
       "      <td>...</td>\n",
       "      <td>...</td>\n",
       "      <td>...</td>\n",
       "    </tr>\n",
       "    <tr>\n",
       "      <th>3575</th>\n",
       "      <td>Sphaerodactylus</td>\n",
       "      <td>Sphaerodactylus cinereus</td>\n",
       "      <td>NaN</td>\n",
       "    </tr>\n",
       "    <tr>\n",
       "      <th>3576</th>\n",
       "      <td>Sphaerodactylus</td>\n",
       "      <td>Sphaerodactylus notatus</td>\n",
       "      <td>NaN</td>\n",
       "    </tr>\n",
       "    <tr>\n",
       "      <th>3577</th>\n",
       "      <td>Anolis</td>\n",
       "      <td>Anolis sagrei</td>\n",
       "      <td>NaN</td>\n",
       "    </tr>\n",
       "    <tr>\n",
       "      <th>3578</th>\n",
       "      <td>Coleonyx</td>\n",
       "      <td>Coleonyx switaki</td>\n",
       "      <td>NaN</td>\n",
       "    </tr>\n",
       "    <tr>\n",
       "      <th>3579</th>\n",
       "      <td>Coleonyx</td>\n",
       "      <td>Coleonyx variegatus</td>\n",
       "      <td>NaN</td>\n",
       "    </tr>\n",
       "  </tbody>\n",
       "</table>\n",
       "<p>3580 rows × 3 columns</p>\n",
       "</div>"
      ],
      "text/plain": [
       "                genus                   species  body mass - maximum\n",
       "0                Hyla           Hyla versicolor                  NaN\n",
       "1          Pseudacris     Pseudacris triseriata                  NaN\n",
       "2               Acris           Acris crepitans                  NaN\n",
       "3         Platymantis     Platymantis vitiensis                  NaN\n",
       "4                Rana            Rana sylvatica                  NaN\n",
       "...               ...                       ...                  ...\n",
       "3575  Sphaerodactylus  Sphaerodactylus cinereus                  NaN\n",
       "3576  Sphaerodactylus   Sphaerodactylus notatus                  NaN\n",
       "3577           Anolis             Anolis sagrei                  NaN\n",
       "3578         Coleonyx          Coleonyx switaki                  NaN\n",
       "3579         Coleonyx       Coleonyx variegatus                  NaN\n",
       "\n",
       "[3580 rows x 3 columns]"
      ]
     },
     "execution_count": 6,
     "metadata": {},
     "output_type": "execute_result"
    }
   ],
   "source": [
    "df[['genus','species','body mass - maximum']]"
   ]
  },
  {
   "cell_type": "code",
   "execution_count": null,
   "metadata": {},
   "outputs": [
    {
     "data": {
      "text/plain": [
       "Index(['phylum', 'class', 'order', 'family', 'genus', 'species',\n",
       "       'specificEpithet', 'sex', 'sampleSizeValue', 'inTextReference',\n",
       "       'publicationYear', 'fullReference', 'body mass', 'body mass - units',\n",
       "       'body mass - minimum', 'body mass - maximum', 'body mass - method',\n",
       "       'body mass - comments', 'body mass - metadata comment',\n",
       "       'original body mass', 'original body mass - units', 'metabolic rate',\n",
       "       'metabolic rate - units', 'metabolic rate - minimum',\n",
       "       'metabolic rate - maximum', 'metabolic rate - method',\n",
       "       'metabolic rate - comments', 'metabolic rate - metadata comment',\n",
       "       'original metabolic rate', 'original metabolic rate - units',\n",
       "       'original respiratoryQuotient', 'original temperature',\n",
       "       'mass-specific metabolic rate', 'mass-specific metabolic rate - units',\n",
       "       'brain size', 'brain size - units', 'brain size - minimum',\n",
       "       'brain size - maximum', 'brain size - method', 'brain size - comments',\n",
       "       'brain size - metadata comment', 'original brain size',\n",
       "       'original brain size - units'],\n",
       "      dtype='object')"
      ]
     },
     "execution_count": 7,
     "metadata": {},
     "output_type": "execute_result"
    }
   ],
   "source": [
    "df.columns"
   ]
  },
  {
   "cell_type": "code",
   "execution_count": null,
   "metadata": {},
   "outputs": [
    {
     "data": {
      "text/plain": [
       "0       0.01315\n",
       "1       0.00010\n",
       "2       0.00030\n",
       "3       0.00030\n",
       "4       0.00037\n",
       "         ...   \n",
       "3575    0.00054\n",
       "3576    0.00033\n",
       "3577    0.00040\n",
       "3578    0.00946\n",
       "3579    0.00362\n",
       "Name: body mass, Length: 3580, dtype: float64"
      ]
     },
     "execution_count": 8,
     "metadata": {},
     "output_type": "execute_result"
    }
   ],
   "source": [
    "df['body mass']"
   ]
  },
  {
   "cell_type": "code",
   "execution_count": null,
   "metadata": {},
   "outputs": [
    {
     "data": {
      "text/plain": [
       "1020"
      ]
     },
     "execution_count": 9,
     "metadata": {},
     "output_type": "execute_result"
    }
   ],
   "source": [
    "sum(df['class'] == 'Mammalia')"
   ]
  },
  {
   "cell_type": "code",
   "execution_count": null,
   "metadata": {},
   "outputs": [
    {
     "data": {
      "text/plain": [
       "485"
      ]
     },
     "execution_count": 10,
     "metadata": {},
     "output_type": "execute_result"
    }
   ],
   "source": [
    "len(np.intersect1d(df['species'],gdf['sci_name']))"
   ]
  },
  {
   "cell_type": "code",
   "execution_count": null,
   "metadata": {},
   "outputs": [
    {
     "data": {
      "text/html": [
       "<div>\n",
       "<style scoped>\n",
       "    .dataframe tbody tr th:only-of-type {\n",
       "        vertical-align: middle;\n",
       "    }\n",
       "\n",
       "    .dataframe tbody tr th {\n",
       "        vertical-align: top;\n",
       "    }\n",
       "\n",
       "    .dataframe thead th {\n",
       "        text-align: right;\n",
       "    }\n",
       "</style>\n",
       "<table border=\"1\" class=\"dataframe\">\n",
       "  <thead>\n",
       "    <tr style=\"text-align: right;\">\n",
       "      <th></th>\n",
       "      <th>id_no</th>\n",
       "      <th>sci_name</th>\n",
       "      <th>presence</th>\n",
       "      <th>origin</th>\n",
       "      <th>seasonal</th>\n",
       "      <th>compiler</th>\n",
       "      <th>yrcompiled</th>\n",
       "      <th>citation</th>\n",
       "      <th>subspecies</th>\n",
       "      <th>subpop</th>\n",
       "      <th>...</th>\n",
       "      <th>order_</th>\n",
       "      <th>family</th>\n",
       "      <th>genus</th>\n",
       "      <th>category</th>\n",
       "      <th>marine</th>\n",
       "      <th>terrestial</th>\n",
       "      <th>freshwater</th>\n",
       "      <th>Shape_Leng</th>\n",
       "      <th>Shape_Area</th>\n",
       "      <th>geometry</th>\n",
       "    </tr>\n",
       "  </thead>\n",
       "  <tbody>\n",
       "    <tr>\n",
       "      <th>8077</th>\n",
       "      <td>7140</td>\n",
       "      <td>Elephas maximus</td>\n",
       "      <td>3</td>\n",
       "      <td>1</td>\n",
       "      <td>1</td>\n",
       "      <td>IUCN/SSC AsESG, WCS, WWF</td>\n",
       "      <td>2020</td>\n",
       "      <td>IUCN/SSC AsESG, WCS, WWF</td>\n",
       "      <td>None</td>\n",
       "      <td>None</td>\n",
       "      <td>...</td>\n",
       "      <td>PROBOSCIDEA</td>\n",
       "      <td>ELEPHANTIDAE</td>\n",
       "      <td>Elephas</td>\n",
       "      <td>EN</td>\n",
       "      <td>false</td>\n",
       "      <td>true</td>\n",
       "      <td>false</td>\n",
       "      <td>214.858199</td>\n",
       "      <td>22.409475</td>\n",
       "      <td>MULTIPOLYGON (((101.47874 -2.50466, 101.50390 ...</td>\n",
       "    </tr>\n",
       "    <tr>\n",
       "      <th>8078</th>\n",
       "      <td>7140</td>\n",
       "      <td>Elephas maximus</td>\n",
       "      <td>3</td>\n",
       "      <td>5</td>\n",
       "      <td>1</td>\n",
       "      <td>IUCN/SSC AsESG, WCS, WWF</td>\n",
       "      <td>2020</td>\n",
       "      <td>IUCN/SSC AsESG, WCS, WWF</td>\n",
       "      <td>None</td>\n",
       "      <td>None</td>\n",
       "      <td>...</td>\n",
       "      <td>PROBOSCIDEA</td>\n",
       "      <td>ELEPHANTIDAE</td>\n",
       "      <td>Elephas</td>\n",
       "      <td>EN</td>\n",
       "      <td>false</td>\n",
       "      <td>true</td>\n",
       "      <td>false</td>\n",
       "      <td>246.534093</td>\n",
       "      <td>9.490031</td>\n",
       "      <td>MULTIPOLYGON (((103.81783 -4.38439, 103.77385 ...</td>\n",
       "    </tr>\n",
       "    <tr>\n",
       "      <th>8079</th>\n",
       "      <td>7140</td>\n",
       "      <td>Elephas maximus</td>\n",
       "      <td>1</td>\n",
       "      <td>1</td>\n",
       "      <td>1</td>\n",
       "      <td>IUCN/SSC AsESG, WCS, WWF</td>\n",
       "      <td>2020</td>\n",
       "      <td>IUCN/SSC AsESG, WCS, WWF</td>\n",
       "      <td>None</td>\n",
       "      <td>None</td>\n",
       "      <td>...</td>\n",
       "      <td>PROBOSCIDEA</td>\n",
       "      <td>ELEPHANTIDAE</td>\n",
       "      <td>Elephas</td>\n",
       "      <td>EN</td>\n",
       "      <td>false</td>\n",
       "      <td>true</td>\n",
       "      <td>false</td>\n",
       "      <td>492.172950</td>\n",
       "      <td>45.235232</td>\n",
       "      <td>MULTIPOLYGON (((105.86546 -4.73612, 105.86292 ...</td>\n",
       "    </tr>\n",
       "  </tbody>\n",
       "</table>\n",
       "<p>3 rows × 29 columns</p>\n",
       "</div>"
      ],
      "text/plain": [
       "      id_no         sci_name  presence  origin  seasonal  \\\n",
       "8077   7140  Elephas maximus         3       1         1   \n",
       "8078   7140  Elephas maximus         3       5         1   \n",
       "8079   7140  Elephas maximus         1       1         1   \n",
       "\n",
       "                      compiler  yrcompiled                  citation  \\\n",
       "8077  IUCN/SSC AsESG, WCS, WWF        2020  IUCN/SSC AsESG, WCS, WWF   \n",
       "8078  IUCN/SSC AsESG, WCS, WWF        2020  IUCN/SSC AsESG, WCS, WWF   \n",
       "8079  IUCN/SSC AsESG, WCS, WWF        2020  IUCN/SSC AsESG, WCS, WWF   \n",
       "\n",
       "     subspecies subpop  ...       order_        family    genus category  \\\n",
       "8077       None   None  ...  PROBOSCIDEA  ELEPHANTIDAE  Elephas       EN   \n",
       "8078       None   None  ...  PROBOSCIDEA  ELEPHANTIDAE  Elephas       EN   \n",
       "8079       None   None  ...  PROBOSCIDEA  ELEPHANTIDAE  Elephas       EN   \n",
       "\n",
       "      marine terrestial freshwater  Shape_Leng Shape_Area  \\\n",
       "8077   false       true      false  214.858199  22.409475   \n",
       "8078   false       true      false  246.534093   9.490031   \n",
       "8079   false       true      false  492.172950  45.235232   \n",
       "\n",
       "                                               geometry  \n",
       "8077  MULTIPOLYGON (((101.47874 -2.50466, 101.50390 ...  \n",
       "8078  MULTIPOLYGON (((103.81783 -4.38439, 103.77385 ...  \n",
       "8079  MULTIPOLYGON (((105.86546 -4.73612, 105.86292 ...  \n",
       "\n",
       "[3 rows x 29 columns]"
      ]
     },
     "execution_count": 11,
     "metadata": {},
     "output_type": "execute_result"
    }
   ],
   "source": [
    "gdf[gdf['sci_name'] == 'Elephas maximus']"
   ]
  },
  {
   "cell_type": "code",
   "execution_count": null,
   "metadata": {},
   "outputs": [
    {
     "data": {
      "text/html": [
       "<div>\n",
       "<style scoped>\n",
       "    .dataframe tbody tr th:only-of-type {\n",
       "        vertical-align: middle;\n",
       "    }\n",
       "\n",
       "    .dataframe tbody tr th {\n",
       "        vertical-align: top;\n",
       "    }\n",
       "\n",
       "    .dataframe thead th {\n",
       "        text-align: right;\n",
       "    }\n",
       "</style>\n",
       "<table border=\"1\" class=\"dataframe\">\n",
       "  <thead>\n",
       "    <tr style=\"text-align: right;\">\n",
       "      <th></th>\n",
       "      <th>id_no</th>\n",
       "      <th>sci_name</th>\n",
       "      <th>presence</th>\n",
       "      <th>origin</th>\n",
       "      <th>seasonal</th>\n",
       "      <th>compiler</th>\n",
       "      <th>yrcompiled</th>\n",
       "      <th>citation</th>\n",
       "      <th>subspecies</th>\n",
       "      <th>subpop</th>\n",
       "      <th>...</th>\n",
       "      <th>order_</th>\n",
       "      <th>family</th>\n",
       "      <th>genus</th>\n",
       "      <th>category</th>\n",
       "      <th>marine</th>\n",
       "      <th>terrestial</th>\n",
       "      <th>freshwater</th>\n",
       "      <th>Shape_Leng</th>\n",
       "      <th>Shape_Area</th>\n",
       "      <th>geometry</th>\n",
       "    </tr>\n",
       "  </thead>\n",
       "  <tbody>\n",
       "    <tr>\n",
       "      <th>0</th>\n",
       "      <td>16104</td>\n",
       "      <td>Paradoxurus jerdoni</td>\n",
       "      <td>1</td>\n",
       "      <td>1</td>\n",
       "      <td>1</td>\n",
       "      <td>IUCN</td>\n",
       "      <td>2016</td>\n",
       "      <td>IUCN (International Union for Conservation of ...</td>\n",
       "      <td>None</td>\n",
       "      <td>None</td>\n",
       "      <td>...</td>\n",
       "      <td>CARNIVORA</td>\n",
       "      <td>VIVERRIDAE</td>\n",
       "      <td>Paradoxurus</td>\n",
       "      <td>LC</td>\n",
       "      <td>false</td>\n",
       "      <td>true</td>\n",
       "      <td>false</td>\n",
       "      <td>45.734651</td>\n",
       "      <td>5.559232</td>\n",
       "      <td>MULTIPOLYGON (((76.41078 10.61212, 76.41578 10...</td>\n",
       "    </tr>\n",
       "    <tr>\n",
       "      <th>1</th>\n",
       "      <td>88149174</td>\n",
       "      <td>Lophostoma occidentalis</td>\n",
       "      <td>1</td>\n",
       "      <td>1</td>\n",
       "      <td>1</td>\n",
       "      <td>IUCN</td>\n",
       "      <td>2016</td>\n",
       "      <td>IUCN (International Union for Conservation of ...</td>\n",
       "      <td>None</td>\n",
       "      <td>None</td>\n",
       "      <td>...</td>\n",
       "      <td>CHIROPTERA</td>\n",
       "      <td>PHYLLOSTOMIDAE</td>\n",
       "      <td>Lophostoma</td>\n",
       "      <td>NT</td>\n",
       "      <td>false</td>\n",
       "      <td>true</td>\n",
       "      <td>false</td>\n",
       "      <td>40.333023</td>\n",
       "      <td>16.395889</td>\n",
       "      <td>MULTIPOLYGON (((-80.15034 -5.44154, -80.38175 ...</td>\n",
       "    </tr>\n",
       "    <tr>\n",
       "      <th>2</th>\n",
       "      <td>163314140</td>\n",
       "      <td>Microcebus boraha</td>\n",
       "      <td>1</td>\n",
       "      <td>1</td>\n",
       "      <td>1</td>\n",
       "      <td>IUCN</td>\n",
       "      <td>2020</td>\n",
       "      <td>IUCN (International Union for Conservation of ...</td>\n",
       "      <td>None</td>\n",
       "      <td>None</td>\n",
       "      <td>...</td>\n",
       "      <td>PRIMATES</td>\n",
       "      <td>CHEIROGALEIDAE</td>\n",
       "      <td>Microcebus</td>\n",
       "      <td>DD</td>\n",
       "      <td>false</td>\n",
       "      <td>true</td>\n",
       "      <td>false</td>\n",
       "      <td>1.279308</td>\n",
       "      <td>0.014417</td>\n",
       "      <td>POLYGON ((50.01109 -16.70219, 50.01082 -16.703...</td>\n",
       "    </tr>\n",
       "    <tr>\n",
       "      <th>3</th>\n",
       "      <td>18555</td>\n",
       "      <td>Pseudomys pilligaensis</td>\n",
       "      <td>1</td>\n",
       "      <td>1</td>\n",
       "      <td>1</td>\n",
       "      <td>IUCN</td>\n",
       "      <td>2016</td>\n",
       "      <td>IUCN (International Union for Conservation of ...</td>\n",
       "      <td>None</td>\n",
       "      <td>None</td>\n",
       "      <td>...</td>\n",
       "      <td>RODENTIA</td>\n",
       "      <td>MURIDAE</td>\n",
       "      <td>Pseudomys</td>\n",
       "      <td>DD</td>\n",
       "      <td>false</td>\n",
       "      <td>true</td>\n",
       "      <td>false</td>\n",
       "      <td>3.942112</td>\n",
       "      <td>0.653697</td>\n",
       "      <td>POLYGON ((149.84833 -30.46726, 149.84878 -30.4...</td>\n",
       "    </tr>\n",
       "    <tr>\n",
       "      <th>4</th>\n",
       "      <td>7014</td>\n",
       "      <td>Echiothrix leucura</td>\n",
       "      <td>1</td>\n",
       "      <td>1</td>\n",
       "      <td>1</td>\n",
       "      <td>IUCN SSC Small Mammal Specialist Group</td>\n",
       "      <td>2016</td>\n",
       "      <td>IUCN SSC Small Mammal Specialist Group</td>\n",
       "      <td>None</td>\n",
       "      <td>None</td>\n",
       "      <td>...</td>\n",
       "      <td>RODENTIA</td>\n",
       "      <td>MURIDAE</td>\n",
       "      <td>Echiothrix</td>\n",
       "      <td>EN</td>\n",
       "      <td>false</td>\n",
       "      <td>true</td>\n",
       "      <td>false</td>\n",
       "      <td>2.918288</td>\n",
       "      <td>0.295186</td>\n",
       "      <td>MULTIPOLYGON (((124.56080 1.18754, 124.55930 1...</td>\n",
       "    </tr>\n",
       "    <tr>\n",
       "      <th>...</th>\n",
       "      <td>...</td>\n",
       "      <td>...</td>\n",
       "      <td>...</td>\n",
       "      <td>...</td>\n",
       "      <td>...</td>\n",
       "      <td>...</td>\n",
       "      <td>...</td>\n",
       "      <td>...</td>\n",
       "      <td>...</td>\n",
       "      <td>...</td>\n",
       "      <td>...</td>\n",
       "      <td>...</td>\n",
       "      <td>...</td>\n",
       "      <td>...</td>\n",
       "      <td>...</td>\n",
       "      <td>...</td>\n",
       "      <td>...</td>\n",
       "      <td>...</td>\n",
       "      <td>...</td>\n",
       "      <td>...</td>\n",
       "      <td>...</td>\n",
       "    </tr>\n",
       "    <tr>\n",
       "      <th>12485</th>\n",
       "      <td>17314</td>\n",
       "      <td>Pipistrellus kuhlii</td>\n",
       "      <td>1</td>\n",
       "      <td>1</td>\n",
       "      <td>1</td>\n",
       "      <td>IUCN</td>\n",
       "      <td>2016</td>\n",
       "      <td>IUCN (International Union for Conservation of ...</td>\n",
       "      <td>None</td>\n",
       "      <td>None</td>\n",
       "      <td>...</td>\n",
       "      <td>CHIROPTERA</td>\n",
       "      <td>VESPERTILIONIDAE</td>\n",
       "      <td>Pipistrellus</td>\n",
       "      <td>LC</td>\n",
       "      <td>false</td>\n",
       "      <td>true</td>\n",
       "      <td>false</td>\n",
       "      <td>3.227012</td>\n",
       "      <td>0.171977</td>\n",
       "      <td>POLYGON ((26.35545 39.37919, 26.35545 39.37919...</td>\n",
       "    </tr>\n",
       "    <tr>\n",
       "      <th>12486</th>\n",
       "      <td>17314</td>\n",
       "      <td>Pipistrellus kuhlii</td>\n",
       "      <td>1</td>\n",
       "      <td>1</td>\n",
       "      <td>1</td>\n",
       "      <td>IUCN</td>\n",
       "      <td>2016</td>\n",
       "      <td>IUCN (International Union for Conservation of ...</td>\n",
       "      <td>None</td>\n",
       "      <td>None</td>\n",
       "      <td>...</td>\n",
       "      <td>CHIROPTERA</td>\n",
       "      <td>VESPERTILIONIDAE</td>\n",
       "      <td>Pipistrellus</td>\n",
       "      <td>LC</td>\n",
       "      <td>false</td>\n",
       "      <td>true</td>\n",
       "      <td>false</td>\n",
       "      <td>4.078058</td>\n",
       "      <td>0.380030</td>\n",
       "      <td>POLYGON ((3.20288 39.95265, 3.20123 39.94886, ...</td>\n",
       "    </tr>\n",
       "    <tr>\n",
       "      <th>12487</th>\n",
       "      <td>17314</td>\n",
       "      <td>Pipistrellus kuhlii</td>\n",
       "      <td>1</td>\n",
       "      <td>1</td>\n",
       "      <td>1</td>\n",
       "      <td>IUCN</td>\n",
       "      <td>2016</td>\n",
       "      <td>IUCN (International Union for Conservation of ...</td>\n",
       "      <td>None</td>\n",
       "      <td>None</td>\n",
       "      <td>...</td>\n",
       "      <td>CHIROPTERA</td>\n",
       "      <td>VESPERTILIONIDAE</td>\n",
       "      <td>Pipistrellus</td>\n",
       "      <td>LC</td>\n",
       "      <td>false</td>\n",
       "      <td>true</td>\n",
       "      <td>false</td>\n",
       "      <td>791.487781</td>\n",
       "      <td>1093.063374</td>\n",
       "      <td>MULTIPOLYGON (((-14.05650 25.93354, -14.07125 ...</td>\n",
       "    </tr>\n",
       "    <tr>\n",
       "      <th>12488</th>\n",
       "      <td>17314</td>\n",
       "      <td>Pipistrellus kuhlii</td>\n",
       "      <td>6</td>\n",
       "      <td>1</td>\n",
       "      <td>1</td>\n",
       "      <td>IUCN</td>\n",
       "      <td>2016</td>\n",
       "      <td>IUCN (International Union for Conservation of ...</td>\n",
       "      <td>None</td>\n",
       "      <td>None</td>\n",
       "      <td>...</td>\n",
       "      <td>CHIROPTERA</td>\n",
       "      <td>VESPERTILIONIDAE</td>\n",
       "      <td>Pipistrellus</td>\n",
       "      <td>LC</td>\n",
       "      <td>false</td>\n",
       "      <td>true</td>\n",
       "      <td>false</td>\n",
       "      <td>13.467769</td>\n",
       "      <td>3.066149</td>\n",
       "      <td>POLYGON ((34.86919 45.96458, 34.87545 45.94761...</td>\n",
       "    </tr>\n",
       "    <tr>\n",
       "      <th>12489</th>\n",
       "      <td>17314</td>\n",
       "      <td>Pipistrellus kuhlii</td>\n",
       "      <td>1</td>\n",
       "      <td>1</td>\n",
       "      <td>1</td>\n",
       "      <td>IUCN</td>\n",
       "      <td>2016</td>\n",
       "      <td>IUCN (International Union for Conservation of ...</td>\n",
       "      <td>None</td>\n",
       "      <td>None</td>\n",
       "      <td>...</td>\n",
       "      <td>CHIROPTERA</td>\n",
       "      <td>VESPERTILIONIDAE</td>\n",
       "      <td>Pipistrellus</td>\n",
       "      <td>LC</td>\n",
       "      <td>false</td>\n",
       "      <td>true</td>\n",
       "      <td>false</td>\n",
       "      <td>11.081258</td>\n",
       "      <td>3.886623</td>\n",
       "      <td>POLYGON ((44.72473 -19.95448, 44.89048 -20.180...</td>\n",
       "    </tr>\n",
       "  </tbody>\n",
       "</table>\n",
       "<p>12490 rows × 29 columns</p>\n",
       "</div>"
      ],
      "text/plain": [
       "           id_no                 sci_name  presence  origin  seasonal  \\\n",
       "0          16104      Paradoxurus jerdoni         1       1         1   \n",
       "1       88149174  Lophostoma occidentalis         1       1         1   \n",
       "2      163314140        Microcebus boraha         1       1         1   \n",
       "3          18555   Pseudomys pilligaensis         1       1         1   \n",
       "4           7014       Echiothrix leucura         1       1         1   \n",
       "...          ...                      ...       ...     ...       ...   \n",
       "12485      17314      Pipistrellus kuhlii         1       1         1   \n",
       "12486      17314      Pipistrellus kuhlii         1       1         1   \n",
       "12487      17314      Pipistrellus kuhlii         1       1         1   \n",
       "12488      17314      Pipistrellus kuhlii         6       1         1   \n",
       "12489      17314      Pipistrellus kuhlii         1       1         1   \n",
       "\n",
       "                                     compiler  yrcompiled  \\\n",
       "0                                        IUCN        2016   \n",
       "1                                        IUCN        2016   \n",
       "2                                        IUCN        2020   \n",
       "3                                        IUCN        2016   \n",
       "4      IUCN SSC Small Mammal Specialist Group        2016   \n",
       "...                                       ...         ...   \n",
       "12485                                    IUCN        2016   \n",
       "12486                                    IUCN        2016   \n",
       "12487                                    IUCN        2016   \n",
       "12488                                    IUCN        2016   \n",
       "12489                                    IUCN        2016   \n",
       "\n",
       "                                                citation subspecies subpop  \\\n",
       "0      IUCN (International Union for Conservation of ...       None   None   \n",
       "1      IUCN (International Union for Conservation of ...       None   None   \n",
       "2      IUCN (International Union for Conservation of ...       None   None   \n",
       "3      IUCN (International Union for Conservation of ...       None   None   \n",
       "4                 IUCN SSC Small Mammal Specialist Group       None   None   \n",
       "...                                                  ...        ...    ...   \n",
       "12485  IUCN (International Union for Conservation of ...       None   None   \n",
       "12486  IUCN (International Union for Conservation of ...       None   None   \n",
       "12487  IUCN (International Union for Conservation of ...       None   None   \n",
       "12488  IUCN (International Union for Conservation of ...       None   None   \n",
       "12489  IUCN (International Union for Conservation of ...       None   None   \n",
       "\n",
       "       ...      order_            family         genus category  marine  \\\n",
       "0      ...   CARNIVORA        VIVERRIDAE   Paradoxurus       LC   false   \n",
       "1      ...  CHIROPTERA    PHYLLOSTOMIDAE    Lophostoma       NT   false   \n",
       "2      ...    PRIMATES    CHEIROGALEIDAE    Microcebus       DD   false   \n",
       "3      ...    RODENTIA           MURIDAE     Pseudomys       DD   false   \n",
       "4      ...    RODENTIA           MURIDAE    Echiothrix       EN   false   \n",
       "...    ...         ...               ...           ...      ...     ...   \n",
       "12485  ...  CHIROPTERA  VESPERTILIONIDAE  Pipistrellus       LC   false   \n",
       "12486  ...  CHIROPTERA  VESPERTILIONIDAE  Pipistrellus       LC   false   \n",
       "12487  ...  CHIROPTERA  VESPERTILIONIDAE  Pipistrellus       LC   false   \n",
       "12488  ...  CHIROPTERA  VESPERTILIONIDAE  Pipistrellus       LC   false   \n",
       "12489  ...  CHIROPTERA  VESPERTILIONIDAE  Pipistrellus       LC   false   \n",
       "\n",
       "      terrestial freshwater  Shape_Leng   Shape_Area  \\\n",
       "0           true      false   45.734651     5.559232   \n",
       "1           true      false   40.333023    16.395889   \n",
       "2           true      false    1.279308     0.014417   \n",
       "3           true      false    3.942112     0.653697   \n",
       "4           true      false    2.918288     0.295186   \n",
       "...          ...        ...         ...          ...   \n",
       "12485       true      false    3.227012     0.171977   \n",
       "12486       true      false    4.078058     0.380030   \n",
       "12487       true      false  791.487781  1093.063374   \n",
       "12488       true      false   13.467769     3.066149   \n",
       "12489       true      false   11.081258     3.886623   \n",
       "\n",
       "                                                geometry  \n",
       "0      MULTIPOLYGON (((76.41078 10.61212, 76.41578 10...  \n",
       "1      MULTIPOLYGON (((-80.15034 -5.44154, -80.38175 ...  \n",
       "2      POLYGON ((50.01109 -16.70219, 50.01082 -16.703...  \n",
       "3      POLYGON ((149.84833 -30.46726, 149.84878 -30.4...  \n",
       "4      MULTIPOLYGON (((124.56080 1.18754, 124.55930 1...  \n",
       "...                                                  ...  \n",
       "12485  POLYGON ((26.35545 39.37919, 26.35545 39.37919...  \n",
       "12486  POLYGON ((3.20288 39.95265, 3.20123 39.94886, ...  \n",
       "12487  MULTIPOLYGON (((-14.05650 25.93354, -14.07125 ...  \n",
       "12488  POLYGON ((34.86919 45.96458, 34.87545 45.94761...  \n",
       "12489  POLYGON ((44.72473 -19.95448, 44.89048 -20.180...  \n",
       "\n",
       "[12490 rows x 29 columns]"
      ]
     },
     "execution_count": 12,
     "metadata": {},
     "output_type": "execute_result"
    }
   ],
   "source": [
    "gdf"
   ]
  },
  {
   "cell_type": "code",
   "execution_count": null,
   "metadata": {},
   "outputs": [
    {
     "data": {
      "text/plain": [
       "array(['g', nan, 'mg', 'kg', 'ug'], dtype=object)"
      ]
     },
     "execution_count": 13,
     "metadata": {},
     "output_type": "execute_result"
    }
   ],
   "source": [
    "df['original body mass - units'].unique()"
   ]
  },
  {
   "cell_type": "code",
   "execution_count": null,
   "metadata": {},
   "outputs": [
    {
     "data": {
      "text/plain": [
       "1020"
      ]
     },
     "execution_count": 14,
     "metadata": {},
     "output_type": "execute_result"
    }
   ],
   "source": [
    "len(df[df['class'] == 'Mammalia'])"
   ]
  },
  {
   "cell_type": "code",
   "execution_count": null,
   "metadata": {},
   "outputs": [
    {
     "data": {
      "text/plain": [
       "Index(['id_no', 'sci_name', 'presence', 'origin', 'seasonal', 'compiler',\n",
       "       'yrcompiled', 'citation', 'subspecies', 'subpop', 'source', 'island',\n",
       "       'tax_comm', 'dist_comm', 'generalisd', 'legend', 'kingdom', 'phylum',\n",
       "       'class', 'order_', 'family', 'genus', 'category', 'marine',\n",
       "       'terrestial', 'freshwater', 'Shape_Leng', 'Shape_Area', 'geometry'],\n",
       "      dtype='object')"
      ]
     },
     "execution_count": 15,
     "metadata": {},
     "output_type": "execute_result"
    }
   ],
   "source": [
    "gdf.columns"
   ]
  },
  {
   "cell_type": "code",
   "execution_count": null,
   "metadata": {},
   "outputs": [
    {
     "data": {
      "text/plain": [
       "shapely.geometry.multipolygon.MultiPolygon"
      ]
     },
     "execution_count": 16,
     "metadata": {},
     "output_type": "execute_result"
    }
   ],
   "source": [
    "type(gdf['geometry'].loc[0])"
   ]
  },
  {
   "cell_type": "code",
   "execution_count": null,
   "metadata": {},
   "outputs": [
    {
     "data": {
      "text/plain": [
       "12490"
      ]
     },
     "execution_count": 17,
     "metadata": {},
     "output_type": "execute_result"
    }
   ],
   "source": [
    "len(gdf)"
   ]
  },
  {
   "cell_type": "code",
   "execution_count": null,
   "metadata": {},
   "outputs": [],
   "source": []
  }
 ],
 "metadata": {
  "kernelspec": {
   "display_name": "venv",
   "language": "python",
   "name": "python3"
  },
  "language_info": {
   "codemirror_mode": {
    "name": "ipython",
    "version": 3
   },
   "file_extension": ".py",
   "mimetype": "text/x-python",
   "name": "python",
   "nbconvert_exporter": "python",
   "pygments_lexer": "ipython3",
   "version": "3.12.1"
  }
 },
 "nbformat": 4,
 "nbformat_minor": 2
}
